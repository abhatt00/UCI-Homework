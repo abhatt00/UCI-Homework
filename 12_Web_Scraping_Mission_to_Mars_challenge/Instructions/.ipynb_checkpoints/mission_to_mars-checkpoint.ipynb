{
 "cells": [
  {
   "cell_type": "code",
   "execution_count": 1,
   "metadata": {},
   "outputs": [],
   "source": [
    "import splinter"
   ]
  },
  {
   "cell_type": "code",
   "execution_count": 2,
   "metadata": {},
   "outputs": [],
   "source": [
    "from splinter import Browser\n",
    "from bs4 import BeautifulSoup"
   ]
  },
  {
   "cell_type": "code",
   "execution_count": 3,
   "metadata": {},
   "outputs": [],
   "source": [
    "title = {\"executable_path\": \"/Users/ChromeDriver/chromedriver.exe\"}\n",
    "browser = Browser(\"chrome\", **title)"
   ]
  },
  {
   "cell_type": "code",
   "execution_count": 4,
   "metadata": {},
   "outputs": [],
   "source": [
    "browser.visit(\"https://mars.nasa.gov/news/?page=0&per_page=40&order=publish_date+desc%2Ccreated_at+desc&search=&category=19%2C165%2C184%2C204&blank_scope=Latest\")"
   ]
  },
  {
   "cell_type": "code",
   "execution_count": 5,
   "metadata": {},
   "outputs": [],
   "source": [
    "browser.is_element_present_by_css(\"ul.item_list li.slide\", wait_time=1)\n",
    "html = browser.html"
   ]
  },
  {
   "cell_type": "markdown",
   "metadata": {},
   "source": [
    "<h1>NASA Mars News</h1>"
   ]
  },
  {
   "cell_type": "code",
   "execution_count": 6,
   "metadata": {},
   "outputs": [
    {
     "data": {
      "text/plain": [
       "[<a class=\"nasa_logo\" href=\"http://www.nasa.gov\" target=\"_blank\" title=\"visit nasa.gov\">NASA</a>,\n",
       " <a class=\"top_logo\" href=\"https://science.nasa.gov/\" target=\"_blank\" title=\"Explore NASA Science\">NASA Science</a>,\n",
       " <a class=\"sub_logo\" href=\"/mars-exploration/#\" title=\"Mars\">Mars Exploration Program</a>,\n",
       " <a class=\"visuallyhidden focusable\" href=\"#page\">Skip Navigation</a>,\n",
       " <a class=\"menu_button\" href=\"javascript:void(0);\" id=\"menu_button\">\n",
       " <span class=\"menu_icon\">\n",
       " menu\n",
       " </span>\n",
       " </a>,\n",
       " <a class=\"modal_close\" id=\"modal_close\">\n",
       " <span class=\"modal_close_icon\"></span>\n",
       " </a>,\n",
       " <a class=\"main_nav_item icon\" href=\"/explore/mars-now\" title=\"Mars Now\"><span>Mars Now</span></a>,\n",
       " <a class=\"main_nav_item\" href=\"/#red_planet\" target=\"_self\"><span>The Red Planet</span><!-- react-text: 14 --><!-- /react-text --></a>,\n",
       " <a class=\"\" href=\"/#red_planet/0\" target=\"_self\"><span>Dashboard</span><!-- react-text: 21 --><!-- /react-text --></a>,\n",
       " <a class=\"\" href=\"/#red_planet/1\" target=\"_self\"><span>Science Goals</span><!-- react-text: 25 --><!-- /react-text --></a>,\n",
       " <a class=\"\" href=\"/#red_planet/2\" target=\"_self\"><span>The Planet</span><!-- react-text: 29 --><!-- /react-text --></a>,\n",
       " <a class=\"\" href=\"/#red_planet/3\" target=\"_self\"><span>Atmosphere</span><!-- react-text: 33 --><!-- /react-text --></a>,\n",
       " <a class=\"\" href=\"/#red_planet/4\" target=\"_self\"><span>Astrobiology</span><!-- react-text: 37 --><!-- /react-text --></a>,\n",
       " <a class=\"\" href=\"/#red_planet/5\" target=\"_self\"><span>Past, Present, Future, Timeline</span><!-- react-text: 41 --><!-- /react-text --></a>,\n",
       " <a class=\"main_nav_item\" href=\"/#mars_exploration_program\" target=\"_self\"><span>The Program</span><!-- react-text: 49 --><!-- /react-text --></a>,\n",
       " <a class=\"\" href=\"/#mars_exploration_program/0\" target=\"_self\"><span>Mission Statement</span><!-- react-text: 56 --><!-- /react-text --></a>,\n",
       " <a class=\"\" href=\"/#mars_exploration_program/1\" target=\"_self\"><span>About the Program</span><!-- react-text: 60 --><!-- /react-text --></a>,\n",
       " <a class=\"\" href=\"/#mars_exploration_program/2\" target=\"_self\"><span>Organization</span><!-- react-text: 64 --><!-- /react-text --></a>,\n",
       " <a class=\"\" href=\"/#mars_exploration_program/3\" target=\"_self\"><span>Why Mars?</span><!-- react-text: 68 --><!-- /react-text --></a>,\n",
       " <a class=\"\" href=\"/#mars_exploration_program/4\" target=\"_self\"><span>Research Programs</span><!-- react-text: 72 --><!-- /react-text --></a>,\n",
       " <a class=\"\" href=\"/#mars_exploration_program/5\" target=\"_self\"><span>Planetary Resources</span><!-- react-text: 76 --><!-- /react-text --></a>,\n",
       " <a class=\"\" href=\"/#mars_exploration_program/6\" target=\"_self\"><span>Technologies</span><!-- react-text: 80 --><!-- /react-text --></a>,\n",
       " <a class=\"main_nav_item\" href=\"/#news_and_events\" target=\"_self\"><span>News &amp; Events</span><!-- react-text: 88 --><!-- /react-text --></a>,\n",
       " <a class=\"\" href=\"/news\" target=\"_self\"><span>News</span><!-- react-text: 95 --><!-- /react-text --></a>,\n",
       " <a class=\"\" href=\"/events\" target=\"_self\"><span>Events</span><!-- react-text: 99 --><!-- /react-text --></a>,\n",
       " <a class=\"main_nav_item\" href=\"/#multimedia\" target=\"_self\"><span>Multimedia</span><!-- react-text: 107 --><!-- /react-text --></a>,\n",
       " <a class=\"\" href=\"/multimedia/images/\" target=\"_self\"><span>Images</span><!-- react-text: 114 --><!-- /react-text --></a>,\n",
       " <a class=\"\" href=\"/multimedia/videos/\" target=\"_self\"><span>Videos</span><!-- react-text: 118 --><!-- /react-text --></a>,\n",
       " <a class=\"main_nav_item\" href=\"/#missions\" target=\"_self\"><span>Missions</span><!-- react-text: 126 --><!-- /react-text --></a>,\n",
       " <a class=\"\" href=\"/mars-exploration/missions/?category=167\" target=\"_self\"><span>Past</span><!-- react-text: 133 --><!-- /react-text --></a>,\n",
       " <a class=\"\" href=\"/mars-exploration/missions/?category=170\" target=\"_self\"><span>Present</span><!-- react-text: 137 --><!-- /react-text --></a>,\n",
       " <a class=\"\" href=\"/mars-exploration/missions/?category=171\" target=\"_self\"><span>Future</span><!-- react-text: 141 --><!-- /react-text --></a>,\n",
       " <a class=\"\" href=\"/mars-exploration/partners\" target=\"_self\"><span>International Partners</span><!-- react-text: 145 --><!-- /react-text --></a>,\n",
       " <a class=\"main_nav_item\" href=\"/#more\" target=\"_self\"><span>More</span><!-- react-text: 151 --><!-- /react-text --></a>,\n",
       " <a href=\"/news/8561/nasas-briefcase-size-marco-satellite-picks-up-honors/\" target=\"_self\"><div class=\"rollover_description\"><div class=\"rollover_description_inner\">The twin spacecraft, the first of their kind to fly into deep space, earn a Laureate from Aviation Week &amp; Space Technology.</div><div class=\"overlay_arrow\"><img alt=\"More\" src=\"/assets/overlay-arrow.png\"/></div></div><div class=\"list_image\"><img alt=\"Engineer Joel Steinkraus tests the solar arrays on one of the Mars Cube One \" src=\"/system/news_items/list_view_images/8561_MarCO-32x24.jpg\"/></div><div class=\"bottom_gradient\"><div><h3>NASA's Briefcase-Size MarCO Satellite Picks Up Honors</h3></div></div></a>,\n",
       " <a href=\"/news/8561/nasas-briefcase-size-marco-satellite-picks-up-honors/\" target=\"_self\">NASA's Briefcase-Size MarCO Satellite Picks Up Honors</a>,\n",
       " <a href=\"/news/8558/global-storms-on-mars-launch-dust-towers-into-the-sky/\" target=\"_self\"><div class=\"rollover_description\"><div class=\"rollover_description_inner\">A Mars Dust Tower Stands Out Dust storms are common on Mars. But every decade or so, something unpredictable happens: a series of runaway storms break out, covering the entire planet in a dusty haze.</div><div class=\"overlay_arrow\"><img alt=\"More\" src=\"/assets/overlay-arrow.png\"/></div></div><div class=\"list_image\"><img alt=\"Dust storms on Mars.\" src=\"/system/news_items/list_view_images/8558_PIA23513-32x24.jpg\"/></div><div class=\"bottom_gradient\"><div><h3>Global Storms on Mars Launch Dust Towers Into the Sky</h3></div></div></a>,\n",
       " <a href=\"/news/8558/global-storms-on-mars-launch-dust-towers-into-the-sky/\" target=\"_self\">Global Storms on Mars Launch Dust Towers Into the Sky</a>,\n",
       " <a href=\"/news/8556/nasa-updates-mars-2020-mission-environmental-review/\" target=\"_self\"><div class=\"rollover_description\"><div class=\"rollover_description_inner\">NASA and the Department of Energy have completed a more detailed risk analysis for the Mars 2020 rover launch from Florida.</div><div class=\"overlay_arrow\"><img alt=\"More\" src=\"/assets/overlay-arrow.png\"/></div></div><div class=\"list_image\"><img alt=\"The electricity needed to operate NASA's Mars 2020 rover (pictured here) is provided by a power system called a Multi-Mission Radioisotope Thermoelectric Generator, or MMRTG.\" src=\"/system/news_items/list_view_images/8556_PIA23305_320x240px.jpg\"/></div><div class=\"bottom_gradient\"><div><h3>NASA Updates Mars 2020 Mission Environmental Review</h3></div></div></a>,\n",
       " <a href=\"/news/8556/nasa-updates-mars-2020-mission-environmental-review/\" target=\"_self\">NASA Updates Mars 2020 Mission Environmental Review</a>,\n",
       " <a href=\"/news/8554/two-of-a-space-kind-apollo-12-and-mars-2020/\" target=\"_self\"><div class=\"rollover_description\"><div class=\"rollover_description_inner\">Apollo 12 and the upcoming Mars 2020 mission may be separated by half a century, but they share several goals unique in the annals of space exploration.</div><div class=\"overlay_arrow\"><img alt=\"More\" src=\"/assets/overlay-arrow.png\"/></div></div><div class=\"list_image\"><img alt=\"(Left) Apollo 12 astronaut Charles “Pete” Conrad Jr. stands beside NASA's Surveyor 3 spacecraft; the lunar module Intrepid can be seen in the distance. Apollo 12 landed on the Moon's Ocean of Storms on Nov. 20, 1969. (Right) Mars 2020 rover, seen here in an artist's concept, will make history's most accurate landing on a planetary body when it lands at Mars' Jezero Crater on Feb. 18, 2021.\" src=\"/system/news_items/list_view_images/8554_PIA23553-320x240.jpg\"/></div><div class=\"bottom_gradient\"><div><h3>Two of a Space Kind: Apollo 12 and Mars 2020</h3></div></div></a>,\n",
       " <a href=\"/news/8554/two-of-a-space-kind-apollo-12-and-mars-2020/\" target=\"_self\">Two of a Space Kind: Apollo 12 and Mars 2020</a>,\n",
       " <a href=\"/news/8551/mars-scientists-investigate-ancient-life-in-australia/\" target=\"_self\"><div class=\"rollover_description\"><div class=\"rollover_description_inner\">Teams with NASA's Mars 2020 and ESA's ExoMars practiced hunting for fossilized microbial life in the Australian Outback in preparation for their Red Planet missions. </div><div class=\"overlay_arrow\"><img alt=\"More\" src=\"/assets/overlay-arrow.png\"/></div></div><div class=\"list_image\"><img alt=\"NASA and ESA scientists study stromatolites, the oldest confirmed fossilized lifeforms on Earth, in the Pilbara region of North West Australia.\" src=\"/system/news_items/list_view_images/8551_PIA23551-320x240.jpg\"/></div><div class=\"bottom_gradient\"><div><h3>Mars Scientists Investigate Ancient Life in Australia</h3></div></div></a>,\n",
       " <a href=\"/news/8551/mars-scientists-investigate-ancient-life-in-australia/\" target=\"_self\">Mars Scientists Investigate Ancient Life in Australia</a>,\n",
       " <a href=\"/news/8549/nasas-mars-2020-will-hunt-for-microscopic-fossils/\" target=\"_self\"><div class=\"rollover_description\"><div class=\"rollover_description_inner\">A new paper identifies a ring of minerals at the rover's landing site that are ideal for fossilizing microbial life.</div><div class=\"overlay_arrow\"><img alt=\"More\" src=\"/assets/overlay-arrow.png\"/></div></div><div class=\"list_image\"><img alt=\"Lighter colors represent higher elevation in this image of Jezero Crater on Mars, the landing site for NASA's Mars 2020 mission.\" src=\"/system/news_items/list_view_images/8549_PIA23511-320x240.jpg\"/></div><div class=\"bottom_gradient\"><div><h3>NASA's Mars 2020 Will Hunt for Microscopic Fossils</h3></div></div></a>,\n",
       " <a href=\"/news/8549/nasas-mars-2020-will-hunt-for-microscopic-fossils/\" target=\"_self\">NASA's Mars 2020 Will Hunt for Microscopic Fossils</a>,\n",
       " <a href=\"/news/8548/with-mars-methane-mystery-unsolved-curiosity-serves-scientists-a-new-one-oxygen/\" target=\"_self\"><div class=\"rollover_description\"><div class=\"rollover_description_inner\">For the first time in the history of space exploration, scientists have measured the seasonal changes in the gases that fill the air directly above the surface of Gale Crater on Mars. </div><div class=\"overlay_arrow\"><img alt=\"More\" src=\"/assets/overlay-arrow.png\"/></div></div><div class=\"list_image\"><img alt=\"NASA's Curiosity Mars rover imaged these drifting clouds on May 17, 2019, the 2,410th Martian day, or sol, of the mission, using its black-and-white Navigation Cameras (Navcams).\" src=\"/system/news_items/list_view_images/8548_mars_seasonal_oxygen_gale_crater-320x240.jpg\"/></div><div class=\"bottom_gradient\"><div><h3>With Mars Methane Mystery Unsolved, Curiosity Serves Scientists a New One: Oxygen</h3></div></div></a>,\n",
       " <a href=\"/news/8548/with-mars-methane-mystery-unsolved-curiosity-serves-scientists-a-new-one-oxygen/\" target=\"_self\">With Mars Methane Mystery Unsolved, Curiosity Serves Scientists a New One: Oxygen</a>,\n",
       " <a href=\"/news/8545/nasas-mars-2020-heads-into-the-test-chamber/\" target=\"_self\"><div class=\"rollover_description\"><div class=\"rollover_description_inner\">In this time-lapse video taken at JPL, engineers move the Mars 2020 rover into a large vacuum chamber for testing in Mars-like environmental conditions.</div><div class=\"overlay_arrow\"><img alt=\"More\" src=\"/assets/overlay-arrow.png\"/></div></div><div class=\"list_image\"><img alt=\"In this time-lapse video taken at JPL, engineers move the Mars 2020 rover into a large vacuum chamber for testing in Mars-like environmental conditions.\" src=\"/system/news_items/list_view_images/8545_24679_PIA23470-1041_320x240px.jpg\"/></div><div class=\"bottom_gradient\"><div><h3>NASA's Mars 2020 Heads Into the Test Chamber</h3></div></div></a>,\n",
       " <a href=\"/news/8545/nasas-mars-2020-heads-into-the-test-chamber/\" target=\"_self\">NASA's Mars 2020 Heads Into the Test Chamber</a>,\n",
       " <a href=\"/news/8544/screening-soon-the-pathfinders-trains-lens-on-mars/\" target=\"_self\"><div class=\"rollover_description\"><div class=\"rollover_description_inner\">With the Mars 2020 mission ramping up, the documentary — the first of four about past JPL missions to the Red Planet to be shown at Caltech — tells a gripping backstory.</div><div class=\"overlay_arrow\"><img alt=\"More\" src=\"/assets/overlay-arrow.png\"/></div></div><div class=\"list_image\"><img alt=\"An artist's rendering of Mars Pathfinder, which consisted of a lander and the first-ever robotic rover on the surface of the Red Planet. The documentary &quot;The Pathfinders&quot; tells the story behind the mission. \" src=\"/system/news_items/list_view_images/8544_Pathfinder-Background-320x240.jpg\"/></div><div class=\"bottom_gradient\"><div><h3>Screening Soon: 'The Pathfinders' Trains Lens on Mars</h3></div></div></a>,\n",
       " <a href=\"/news/8544/screening-soon-the-pathfinders-trains-lens-on-mars/\" target=\"_self\">Screening Soon: 'The Pathfinders' Trains Lens on Mars</a>,\n",
       " <a href=\"/news/8529/insights-mole-team-peers-into-the-pit/\" target=\"_self\"><div class=\"rollover_description\"><div class=\"rollover_description_inner\">Efforts to save the heat probe continue.</div><div class=\"overlay_arrow\"><img alt=\"More\" src=\"/assets/overlay-arrow.png\"/></div></div><div class=\"list_image\"><img alt=\"The shadow of NASA InSight's robotic arm moves over its heat probe, or &quot;mole,&quot; on Nov. 3, 2019, the 333rd Martian day, or sol, of the mission.\" src=\"/system/news_items/list_view_images/8529_PIA23512-226.gif\"/></div><div class=\"bottom_gradient\"><div><h3>InSight's 'Mole' Team Peers into the Pit</h3></div></div></a>,\n",
       " <a href=\"/news/8529/insights-mole-team-peers-into-the-pit/\" target=\"_self\">InSight's 'Mole' Team Peers into the Pit</a>,\n",
       " <a href=\"/news/8444/common-questions-about-insights-mole/\" target=\"_self\"><div class=\"rollover_description\"><div class=\"rollover_description_inner\">There's a new plan to get InSight's \"mole\" moving again. The following Q&amp;As with two members of the team answer some of the most common questions about the burrowing device, part of a science instrument called the Heat Flow and Physical Properties Package (HP3).</div><div class=\"overlay_arrow\"><img alt=\"More\" src=\"/assets/overlay-arrow.png\"/></div></div><div class=\"list_image\"><img alt=\"The support structure of the Heat Flow and Physical Properties Package (HP3) instrument moved slightly during hammering, as indicated by the circular &quot;footprints&quot; around the instrument's footpads. \" src=\"/system/news_items/list_view_images/8444_PIA23271-320x240.jpg\"/></div><div class=\"bottom_gradient\"><div><h3>Common Questions about InSight's 'Mole'</h3></div></div></a>,\n",
       " <a href=\"/news/8444/common-questions-about-insights-mole/\" target=\"_self\">Common Questions about InSight's 'Mole'</a>,\n",
       " <a href=\"/news/8537/mars-2020-stands-on-its-own-six-wheels/\" target=\"_self\"><div class=\"rollover_description\"><div class=\"rollover_description_inner\">In time-lapse video, taken at JPL, captures the first time NASA's Mars 2020 rover carries its full weight on its legs and wheels.</div><div class=\"overlay_arrow\"><img alt=\"More\" src=\"/assets/overlay-arrow.png\"/></div></div><div class=\"list_image\"><img alt=\"In time-lapse video, taken at JPL, captures the first time NASA's Mars 2020 rover carries its full weight on its legs and wheels.\" src=\"/system/news_items/list_view_images/8537_PIA23468-16_320x240px.jpg\"/></div><div class=\"bottom_gradient\"><div><h3>Mars 2020 Stands on Its Own Six Wheels</h3></div></div></a>,\n",
       " <a href=\"/news/8537/mars-2020-stands-on-its-own-six-wheels/\" target=\"_self\">Mars 2020 Stands on Its Own Six Wheels</a>,\n",
       " <a href=\"/news/8536/new-selfie-shows-curiosity-the-mars-chemist/\" target=\"_self\"><div class=\"rollover_description\"><div class=\"rollover_description_inner\">The NASA rover performed a special chemistry experiment at the location captured in its newest self-portrait.</div><div class=\"overlay_arrow\"><img alt=\"More\" src=\"/assets/overlay-arrow.png\"/></div></div><div class=\"list_image\"><img alt=\"NASA's Curiosity rover took this selfie on Oct. 11, 2019, the 2,553rd Martian day, or sol, of its mission.\" src=\"/system/news_items/list_view_images/8536_Mars_chemist_320x240px.jpg\"/></div><div class=\"bottom_gradient\"><div><h3>New Selfie Shows Curiosity, the Mars Chemist</h3></div></div></a>,\n",
       " <a href=\"/news/8536/new-selfie-shows-curiosity-the-mars-chemist/\" target=\"_self\">New Selfie Shows Curiosity, the Mars Chemist</a>,\n",
       " <a href=\"/news/8534/naming-a-nasa-mars-rover-can-change-your-life/\" target=\"_self\"><div class=\"rollover_description\"><div class=\"rollover_description_inner\">Want to name the robotic scientist NASA is sending to Mars in 2020? The student who named Curiosity — the rover currently exploring Mars — will tell you this is an opportunity worth taking.</div><div class=\"overlay_arrow\"><img alt=\"More\" src=\"/assets/overlay-arrow.png\"/></div></div><div class=\"list_image\"><img alt=\"Image of Clara Ma, then and now.\" src=\"/system/news_items/list_view_images/8534_20191022_ClaraMa_compare-320x240.jpg\"/></div><div class=\"bottom_gradient\"><div><h3>Naming a NASA Mars Rover Can Change Your Life</h3></div></div></a>,\n",
       " <a href=\"/news/8534/naming-a-nasa-mars-rover-can-change-your-life/\" target=\"_self\">Naming a NASA Mars Rover Can Change Your Life</a>,\n",
       " <a href=\"/news/8531/mars-2020-unwrapped-and-ready-for-more-testing/\" target=\"_self\"><div class=\"rollover_description\"><div class=\"rollover_description_inner\">In time-lapse video, bunny-suited engineers remove the inner layer of protective foil on NASA's Mars 2020 rover after it was relocated for testing.</div><div class=\"overlay_arrow\"><img alt=\"More\" src=\"/assets/overlay-arrow.png\"/></div></div><div class=\"list_image\"><img alt=\"Mars 2020 Unwrapped and Ready for Testing: In time-lapse video bunny-suited engineers remove the inner layer of protective foil on NASA's Mars 2020 rover after it was moved to a different building at JPL for testing.\" src=\"/system/news_items/list_view_images/8531_PIA23467-320x240.gif\"/></div><div class=\"bottom_gradient\"><div><h3>Mars 2020 Unwrapped and Ready for More Testing</h3></div></div></a>,\n",
       " <a href=\"/news/8531/mars-2020-unwrapped-and-ready-for-more-testing/\" target=\"_self\">Mars 2020 Unwrapped and Ready for More Testing</a>,\n",
       " <a href=\"/news/8528/hirise-views-nasas-insight-and-curiosity-on-mars/\" target=\"_self\"><div class=\"rollover_description\"><div class=\"rollover_description_inner\">New images taken from space offer the clearest orbital glimpse yet of InSight as well as a view of Curiosity rolling along.</div><div class=\"overlay_arrow\"><img alt=\"More\" src=\"/assets/overlay-arrow.png\"/></div></div><div class=\"list_image\"><img alt=\"The HiRISE camera on NASA's Mars Reconnaissance Orbiter got its best view yet of the InSight lander on September 23, 2019\" src=\"/system/news_items/list_view_images/8528_PIA23376-320x240.jpg\"/></div><div class=\"bottom_gradient\"><div><h3>HiRISE Views NASA's InSight and Curiosity on Mars</h3></div></div></a>,\n",
       " <a href=\"/news/8528/hirise-views-nasas-insight-and-curiosity-on-mars/\" target=\"_self\">HiRISE Views NASA's InSight and Curiosity on Mars</a>,\n",
       " <a href=\"/news/8522/nasas-curiosity-rover-finds-an-ancient-oasis-on-mars/\" target=\"_self\"><div class=\"rollover_description\"><div class=\"rollover_description_inner\">New evidence suggests salty, shallow ponds once dotted a Martian crater — a sign of the planet's drying climate.</div><div class=\"overlay_arrow\"><img alt=\"More\" src=\"/assets/overlay-arrow.png\"/></div></div><div class=\"list_image\"><img alt='The network of cracks in this Martian rock slab called \"Old Soaker\" may have formed from the drying of a mud layer more than 3 billion years ago. ' src=\"/system/news_items/list_view_images/8522_PIA21261-320x240.jpg\"/></div><div class=\"bottom_gradient\"><div><h3>NASA's Curiosity Rover Finds an Ancient Oasis on Mars</h3></div></div></a>,\n",
       " <a href=\"/news/8522/nasas-curiosity-rover-finds-an-ancient-oasis-on-mars/\" target=\"_self\">NASA's Curiosity Rover Finds an Ancient Oasis on Mars</a>,\n",
       " <a href=\"/news/8520/nasas-mars-2020-rover-tests-descent-stage-separation/\" target=\"_self\"><div class=\"rollover_description\"><div class=\"rollover_description_inner\">A crane lifts the rocket-powered descent stage away from NASA's Mars 2020 rover after technicians tested the pyrotechnic charges that separate the two spacecraft.</div><div class=\"overlay_arrow\"><img alt=\"More\" src=\"/assets/overlay-arrow.png\"/></div></div><div class=\"list_image\"><img alt=\"Engineers and technicians working on the Mars 2020 spacecraft, look on as a crane lifts the rocket-powered descent stage away from the rover after a test. \" src=\"/system/news_items/list_view_images/8520_PIA23466-226.jpg\"/></div><div class=\"bottom_gradient\"><div><h3>NASA's Mars 2020 Rover Tests Descent-Stage Separation</h3></div></div></a>,\n",
       " <a href=\"/news/8520/nasas-mars-2020-rover-tests-descent-stage-separation/\" target=\"_self\">NASA's Mars 2020 Rover Tests Descent-Stage Separation</a>,\n",
       " <a href=\"/news/8518/nasas-push-to-save-the-mars-insight-landers-heat-probe/\" target=\"_self\"><div class=\"rollover_description\"><div class=\"rollover_description_inner\">The scoop on the end of the spacecraft's robotic arm will be used to 'pin' the mole against the wall of its hole.</div><div class=\"overlay_arrow\"><img alt=\"More\" src=\"/assets/overlay-arrow.png\"/></div></div><div class=\"list_image\"><img alt=\"InSight's robotic arm will use its scoop to pin the spacecraft's heat probe, or &quot;mole,&quot; against the wall of its hole.\" src=\"/system/news_items/list_view_images/8518_PIA23373-320x240.gif\"/></div><div class=\"bottom_gradient\"><div><h3>NASA's Push to Save the Mars InSight Lander's Heat Probe</h3></div></div></a>,\n",
       " <a href=\"/news/8518/nasas-push-to-save-the-mars-insight-landers-heat-probe/\" target=\"_self\">NASA's Push to Save the Mars InSight Lander's Heat Probe</a>,\n",
       " <a href=\"/news/8517/nasas-insight-hears-peculiar-sounds-on-mars/\" target=\"_self\"><div class=\"rollover_description\"><div class=\"rollover_description_inner\">Listen to the marsquakes and other, less-expected sounds that the Mars lander has been detecting.</div><div class=\"overlay_arrow\"><img alt=\"More\" src=\"/assets/overlay-arrow.png\"/></div></div><div class=\"list_image\"><img alt=\"Clouds drift over the dome-covered seismometer, known as SEIS, belonging to NASA's InSight lander, on Mars.\" src=\"/system/news_items/list_view_images/8517_PIA23180-226.gif\"/></div><div class=\"bottom_gradient\"><div><h3>NASA's InSight 'Hears' Peculiar Sounds on Mars</h3></div></div></a>,\n",
       " <a href=\"/news/8517/nasas-insight-hears-peculiar-sounds-on-mars/\" target=\"_self\">NASA's InSight 'Hears' Peculiar Sounds on Mars</a>,\n",
       " <a href=\"/news/8512/nasa-mars-mission-connects-with-bosnian-and-herzegovinian-town/\" target=\"_self\"><div class=\"rollover_description\"><div class=\"rollover_description_inner\">A letter from NASA was presented to the mayor of Jezero, Bosnia-Herzegovina, honoring the connection between the town and Jezero Crater, the Mars 2020 rover landing site.</div><div class=\"overlay_arrow\"><img alt=\"More\" src=\"/assets/overlay-arrow.png\"/></div></div><div class=\"list_image\"><img alt=\"In this picture, Ružičić snaps a selfie of the ambassador with local schooldren. \" src=\"/system/news_items/list_view_images/8512_PIA23463-320x240.jpg\"/></div><div class=\"bottom_gradient\"><div><h3>NASA Mars Mission Connects With Bosnian and Herzegovinian Town</h3></div></div></a>,\n",
       " <a href=\"/news/8512/nasa-mars-mission-connects-with-bosnian-and-herzegovinian-town/\" target=\"_self\">NASA Mars Mission Connects With Bosnian and Herzegovinian Town</a>,\n",
       " <a href=\"/news/8511/deadline-closing-for-names-to-fly-on-nasas-next-mars-rover/\" target=\"_self\"><div class=\"rollover_description\"><div class=\"rollover_description_inner\">You have until Sept. 30 to send your names to Mars aboard the Mars 2020 rover. </div><div class=\"overlay_arrow\"><img alt=\"More\" src=\"/assets/overlay-arrow.png\"/></div></div><div class=\"list_image\"><img alt='The actor Brad Pitt (right) shows off his \"boarding pass\" for Mars with Jennifer Trosper (left), the Mars 2020 project systems engineer, at JPL on Sept. 6, 2019. ' src=\"/system/news_items/list_view_images/8511_PIA23279-226.jpg\"/></div><div class=\"bottom_gradient\"><div><h3>Deadline Closing for Names to Fly on NASA's Next Mars Rover</h3></div></div></a>,\n",
       " <a href=\"/news/8511/deadline-closing-for-names-to-fly-on-nasas-next-mars-rover/\" target=\"_self\">Deadline Closing for Names to Fly on NASA's Next Mars Rover</a>,\n",
       " <a href=\"/news/8510/nasa-wins-two-emmy-awards-for-interactive-mission-coverage/\" target=\"_self\"><div class=\"rollover_description\"><div class=\"rollover_description_inner\">NASA-JPL's coverage of the Mars InSight landing earns one of the two wins, making this the NASA center's second Emmy.</div><div class=\"overlay_arrow\"><img alt=\"More\" src=\"/assets/overlay-arrow.png\"/></div></div><div class=\"list_image\"><img alt=\"JPL team members with JPL deputy director Larry James at the 2019 Creative Arts Emmy Awards on Sunday, Sept. 15, 2019\" src=\"/system/news_items/list_view_images/8510_emmy20190916-32x24.jpg\"/></div><div class=\"bottom_gradient\"><div><h3>NASA Wins Two Emmy Awards for Interactive Mission Coverage</h3></div></div></a>,\n",
       " <a href=\"/news/8510/nasa-wins-two-emmy-awards-for-interactive-mission-coverage/\" target=\"_self\">NASA Wins Two Emmy Awards for Interactive Mission Coverage</a>,\n",
       " <a href=\"/news/8509/nasas-mars-2020-comes-full-circle/\" target=\"_self\"><div class=\"rollover_description\"><div class=\"rollover_description_inner\">Aiming to pinpoint the Martian vehicle's center of gravity, engineers took NASA's 2,300-pound Mars 2020 rover for a spin in the clean room at JPL. </div><div class=\"overlay_arrow\"><img alt=\"More\" src=\"/assets/overlay-arrow.png\"/></div></div><div class=\"list_image\"><img alt=\"In search of its center of gravity, engineers took NASA's 2,300-pound Mars 2020 for a clean room spin on Aug. 29, 2019.\" src=\"/system/news_items/list_view_images/8509_PIA23461-226.jpg\"/></div><div class=\"bottom_gradient\"><div><h3>NASA's Mars 2020 Comes Full Circle</h3></div></div></a>,\n",
       " <a href=\"/news/8509/nasas-mars-2020-comes-full-circle/\" target=\"_self\">NASA's Mars 2020 Comes Full Circle</a>,\n",
       " <a href=\"/news/8508/nasa-invites-students-to-name-mars-2020-rover/\" target=\"_self\"><div class=\"rollover_description\"><div class=\"rollover_description_inner\">Through Nov. 1, K-12 students in the U.S. are encouraged to enter an essay contest to name NASA's next Mars rover.</div><div class=\"overlay_arrow\"><img alt=\"More\" src=\"/assets/overlay-arrow.png\"/></div></div><div class=\"list_image\"><img alt=\"The Mars 2020 Rover is preparing to launch to the Red Planet in July 2020, but it doesn't have a name yet. We're asking K-12 students across the United States to send in essays with their best name ideas by Nov. 1, 2019. \" src=\"/system/news_items/list_view_images/8508_Name_A_unannotated_MAIN-th.jpg\"/></div><div class=\"bottom_gradient\"><div><h3>NASA Invites Students to Name Mars 2020 Rover</h3></div></div></a>,\n",
       " <a href=\"/news/8508/nasa-invites-students-to-name-mars-2020-rover/\" target=\"_self\">NASA Invites Students to Name Mars 2020 Rover</a>,\n",
       " <a href=\"/news/8507/nasas-mars-helicopter-attached-to-mars-2020-rover/\" target=\"_self\"><div class=\"rollover_description\"><div class=\"rollover_description_inner\">The helicopter will be first aircraft to perform flight tests on another planet.</div><div class=\"overlay_arrow\"><img alt=\"More\" src=\"/assets/overlay-arrow.png\"/></div></div><div class=\"list_image\"><img alt=\"Engineers attached NASA's Mars Helicopter (circled in red) to the belly of the Mars 2020 rover.\" src=\"/system/news_items/list_view_images/8507_PIA23152-320x240.jpg\"/></div><div class=\"bottom_gradient\"><div><h3>NASA's Mars Helicopter Attached to Mars 2020 Rover </h3></div></div></a>,\n",
       " <a href=\"/news/8507/nasas-mars-helicopter-attached-to-mars-2020-rover/\" target=\"_self\">NASA's Mars Helicopter Attached to Mars 2020 Rover </a>,\n",
       " <a href=\"/news/8506/whats-mars-solar-conjunction-and-why-does-it-matter/\" target=\"_self\"><div class=\"rollover_description\"><div class=\"rollover_description_inner\">NASA spacecraft at Mars are going to be on their own for a few weeks when the Sun comes between Mars and Earth, interrupting communications.</div><div class=\"overlay_arrow\"><img alt=\"More\" src=\"/assets/overlay-arrow.png\"/></div></div><div class=\"list_image\"><img alt=\"This animation illustrates Mars solar conjunction, a period when Mars is on the opposite side of the Sun from Earth. During this time, the Sun can interrupt radio transmissions to spacecraft on and around the Red Planet.\" src=\"/system/news_items/list_view_images/8506_mars-solar-conjunction-th.jpg\"/></div><div class=\"bottom_gradient\"><div><h3>What's Mars Solar Conjunction, and Why Does It Matter?</h3></div></div></a>,\n",
       " <a href=\"/news/8506/whats-mars-solar-conjunction-and-why-does-it-matter/\" target=\"_self\">What's Mars Solar Conjunction, and Why Does It Matter?</a>,\n",
       " <a href=\"/news/8505/scientists-explore-outback-as-testbed-for-mars/\" target=\"_self\"><div class=\"rollover_description\"><div class=\"rollover_description_inner\">Australia provides a great place for NASA's Mars 2020 and the ESA-Roscosmos ExoMars scientists to hone techniques in preparation for searching for signs ancient life on Mars.</div><div class=\"overlay_arrow\"><img alt=\"More\" src=\"/assets/overlay-arrow.png\"/></div></div><div class=\"list_image\"><img alt=\"\" src=\"/system/news_items/list_view_images/8505_PIA23275-th.jpg\"/></div><div class=\"bottom_gradient\"><div><h3>Scientists Explore Outback as Testbed for Mars </h3></div></div></a>,\n",
       " <a href=\"/news/8505/scientists-explore-outback-as-testbed-for-mars/\" target=\"_self\">Scientists Explore Outback as Testbed for Mars </a>,\n",
       " <a href=\"/news/8504/nasa-jpl-names-rolling-stones-rock-on-mars/\" target=\"_self\"><div class=\"rollover_description\"><div class=\"rollover_description_inner\">NASA's Mars InSight mission honored one of the biggest bands of all time at Pasadena concert.</div><div class=\"overlay_arrow\"><img alt=\"More\" src=\"/assets/overlay-arrow.png\"/></div></div><div class=\"list_image\"><img alt=\"This animation illustrates NASA's InSight lander touching down on Mars, its thrusters setting a rock in motion. A little bigger than a golf ball, the rock was later nicknamed &quot;Rolling Stones Rock&quot; by the InSight team in honor of The Rolling Stones.\" src=\"/system/news_items/list_view_images/8504_insight20190822-226.gif\"/></div><div class=\"bottom_gradient\"><div><h3>NASA-JPL Names 'Rolling Stones Rock' on Mars</h3></div></div></a>,\n",
       " <a href=\"/news/8504/nasa-jpl-names-rolling-stones-rock-on-mars/\" target=\"_self\">NASA-JPL Names 'Rolling Stones Rock' on Mars</a>,\n",
       " <a href=\"/news/8503/robotic-toolkit-added-to-nasas-mars-2020-rover/\" target=\"_self\"><div class=\"rollover_description\"><div class=\"rollover_description_inner\">The bit carousel, which lies at the heart of the rover's Sample Caching System, is now aboard NASA's newest rover. </div><div class=\"overlay_arrow\"><img alt=\"More\" src=\"/assets/overlay-arrow.png\"/></div></div><div class=\"list_image\"><img alt=\"The heart of sampling and caching subsystem of NASA’s Mars 2020 mission -  is attached to the front end of the rover.\" src=\"/system/news_items/list_view_images/8503_PIA23319-MAIN-226.jpg\"/></div><div class=\"bottom_gradient\"><div><h3>Robotic Toolkit Added to NASA's Mars 2020 Rover</h3></div></div></a>,\n",
       " <a href=\"/news/8503/robotic-toolkit-added-to-nasas-mars-2020-rover/\" target=\"_self\">Robotic Toolkit Added to NASA's Mars 2020 Rover</a>,\n",
       " <a href=\"/news/8502/space-samples-link-nasas-apollo-11-and-mars-2020/\" target=\"_self\"><div class=\"rollover_description\"><div class=\"rollover_description_inner\">While separated by half a century, NASA's Apollo 11 and Mars 2020 missions share the same historic goal: returning samples to Earth.</div><div class=\"overlay_arrow\"><img alt=\"More\" src=\"/assets/overlay-arrow.png\"/></div></div><div class=\"list_image\"><img alt=\"From left to right: Apollo 11 astronaut Buzz Aldrin stands on the Moon; 47 pounds (21.5 kilograms) of samples were brought back to Earth from that mission; the Mars 2020 rover, seen here in an artist's concept rover, will be taking the first planetary samples at Jezero Crater, Mars (on right). \" src=\"/system/news_items/list_view_images/8502_apollo-mars2020-20190809-th.jpg\"/></div><div class=\"bottom_gradient\"><div><h3>Space Samples Link NASA's Apollo 11 and Mars 2020</h3></div></div></a>,\n",
       " <a href=\"/news/8502/space-samples-link-nasas-apollo-11-and-mars-2020/\" target=\"_self\">Space Samples Link NASA's Apollo 11 and Mars 2020</a>,\n",
       " <a href=\"/news/8501/small-satellite-mission-of-the-year/\" target=\"_self\"><div class=\"rollover_description\"><div class=\"rollover_description_inner\">The first interplanetary CubeSats were recognized by the engineering community with the 2019 Small Satellite Mission of the Year award.</div><div class=\"overlay_arrow\"><img alt=\"More\" src=\"/assets/overlay-arrow.png\"/></div></div><div class=\"list_image\"><img alt=\"An artist's rendering of the twin Mars Cube One (MarCO) spacecraft as they fly through deep space.\" src=\"/system/news_items/list_view_images/8501_21555_PIA22314_320.jpg\"/></div><div class=\"bottom_gradient\"><div><h3>Small Satellite Mission of the Year</h3></div></div></a>,\n",
       " <a href=\"/news/8501/small-satellite-mission-of-the-year/\" target=\"_self\">Small Satellite Mission of the Year</a>,\n",
       " <a href=\"/news/8499/nasa-optometrists-verify-mars-2020-rovers-2020-vision/\" target=\"_self\"><div class=\"rollover_description\"><div class=\"rollover_description_inner\">Mars 2020 rover underwent an eye exam after several cameras were installed on the rover.</div><div class=\"overlay_arrow\"><img alt=\"More\" src=\"/assets/overlay-arrow.png\"/></div></div><div class=\"list_image\"><img alt=\"In this image, engineers test cameras on the top of the Mars 2020 rover’s mast and front chassis. The image was taken on July 23, 2019, in the Spacecraft Assembly Facility's High Bay 1 at NASA's Jet Propulsion Laboratory in Pasadena, California.\" src=\"/system/news_items/list_view_images/8499_PIA23314-th.jpg\"/></div><div class=\"bottom_gradient\"><div><h3>NASA 'Optometrists' Verify Mars 2020 Rover's 20/20 Vision</h3></div></div></a>,\n",
       " <a href=\"/news/8499/nasa-optometrists-verify-mars-2020-rovers-2020-vision/\" target=\"_self\">NASA 'Optometrists' Verify Mars 2020 Rover's 20/20 Vision</a>,\n",
       " <a href=\"/news/8498/new-finds-for-mars-rover-seven-years-after-landing/\" target=\"_self\"><div class=\"rollover_description\"><div class=\"rollover_description_inner\">NASA's Curiosity rover is discovering odd rocks halfway into a region called the \"clay-bearing unit.\"</div><div class=\"overlay_arrow\"><img alt=\"More\" src=\"/assets/overlay-arrow.png\"/></div></div><div class=\"list_image\"><img alt=\"This panorama of a location called &quot;Teal Ridge&quot; was captured on Mars by the Mast Camera, or Mastcam, on NASA's Curiosity rover on June 18, 2019, the 2,440th Martian day, or sol, of the mission.\" src=\"/system/news_items/list_view_images/8498_PIA23346-th.jpg\"/></div><div class=\"bottom_gradient\"><div><h3>New Finds for Mars Rover, Seven Years After Landing</h3></div></div></a>,\n",
       " <a href=\"/news/8498/new-finds-for-mars-rover-seven-years-after-landing/\" target=\"_self\">New Finds for Mars Rover, Seven Years After Landing</a>,\n",
       " <a href=\"/news/8497/medli2-installation-on-mars-2020-aeroshell-begins/\" target=\"_self\"><div class=\"rollover_description\"><div class=\"rollover_description_inner\">Hardware installed onto NASA's Mars 2020 entry vehicle this week will help to increase the safety of future Mars landings.</div><div class=\"overlay_arrow\"><img alt=\"More\" src=\"/assets/overlay-arrow.png\"/></div></div><div class=\"list_image\"><img alt=\"Vibration testing of the MEDLI2 primary electronics box was successfully completed recently at NASA’s Langley Research Center in Hampton, Virginia. Flight hardware is being shipped and installed on the Mars 2020 entry vehicle in preparation for next year’s launch. \" src=\"/system/news_items/list_view_images/8497_medli-16-th.jpg\"/></div><div class=\"bottom_gradient\"><div><h3>MEDLI2 Installation on Mars 2020 Aeroshell Begins</h3></div></div></a>,\n",
       " <a href=\"/news/8497/medli2-installation-on-mars-2020-aeroshell-begins/\" target=\"_self\">MEDLI2 Installation on Mars 2020 Aeroshell Begins</a>,\n",
       " <a href=\"/news/8496/nasas-mars-2020-rover-does-biceps-curls/\" target=\"_self\"><div class=\"rollover_description\"><div class=\"rollover_description_inner\">In this time-lapse video, the robotic arm on NASA's Mars 2020 rover maneuvers its 88-pound (40-kilogram) sensor-laden turret as it moves from a deployed to stowed configuration.</div><div class=\"overlay_arrow\"><img alt=\"More\" src=\"/assets/overlay-arrow.png\"/></div></div><div class=\"list_image\"><img alt=\"\" src=\"/system/news_items/list_view_images/8496_PIA23212-th.jpg\"/></div><div class=\"bottom_gradient\"><div><h3>NASA's Mars 2020 Rover Does Biceps Curls </h3></div></div></a>,\n",
       " <a href=\"/news/8496/nasas-mars-2020-rover-does-biceps-curls/\" target=\"_self\">NASA's Mars 2020 Rover Does Biceps Curls </a>,\n",
       " <a href=\"/news/8495/fueling-of-nasas-mars-2020-rover-power-system-begins/\" target=\"_self\"><div class=\"rollover_description\"><div class=\"rollover_description_inner\">NASA gives the go-ahead to fuel the Mars 2020 rover's Multi-Mission Radioisotope Thermoelectric Generator, which will power rover and help keep it warm while exploring Mars.</div><div class=\"overlay_arrow\"><img alt=\"More\" src=\"/assets/overlay-arrow.png\"/></div></div><div class=\"list_image\"><img alt=\"The electricity for NASA's Mars 2020 rover is provided by a power system called a Multi-Mission Radioisotope Thermoelectric Generator, or MMRTG. The MMRTG will be inserted into the aft end of the rover between the panels with gold tubing visible at the rear, which are called heat exchangers. \" src=\"/system/news_items/list_view_images/8495_PIA23305-th.jpg\"/></div><div class=\"bottom_gradient\"><div><h3>Fueling of NASA's Mars 2020 Rover Power System Begins</h3></div></div></a>,\n",
       " <a href=\"/news/8495/fueling-of-nasas-mars-2020-rover-power-system-begins/\" target=\"_self\">Fueling of NASA's Mars 2020 Rover Power System Begins</a>,\n",
       " <a href=\"/news/8494/what-does-a-marsquake-look-like/\" target=\"_self\"><div class=\"rollover_description\"><div class=\"rollover_description_inner\">InSight scientists used a special \"shake room\" to demonstrate the differences between quakes on Earth, the Moon and Mars.</div><div class=\"overlay_arrow\"><img alt=\"More\" src=\"/assets/overlay-arrow.png\"/></div></div><div class=\"list_image\"><img alt=\"Artist's concept is a simulation of what seismic waves from a marsquake might look like\" src=\"/system/news_items/list_view_images/8494_PIA2344-226.jpg\"/></div><div class=\"bottom_gradient\"><div><h3>What Does a Marsquake Look Like?</h3></div></div></a>,\n",
       " <a href=\"/news/8494/what-does-a-marsquake-look-like/\" target=\"_self\">What Does a Marsquake Look Like?</a>,\n",
       " <a href=\"/news/8461/mars-2020-rover-t-minus-one-year-and-counting/\" target=\"_self\"><div class=\"rollover_description\"><div class=\"rollover_description_inner\">The launch period for NASA's next rover, Mars 2020, opens exactly one year from today, July 17, 2020, and extends through Aug. 5, 2020.</div><div class=\"overlay_arrow\"><img alt=\"More\" src=\"/assets/overlay-arrow.png\"/></div></div><div class=\"list_image\"><img alt=\"Engineers at JPL install a sensor-filled turret on the end of the rover's seven-foot-long (2.1-meter-long) robotic arm.\" src=\"/system/news_items/list_view_images/8461_PIA23311-th.jpg\"/></div><div class=\"bottom_gradient\"><div><h3>Mars 2020 Rover: T-Minus One Year and Counting </h3></div></div></a>,\n",
       " <a href=\"/news/8461/mars-2020-rover-t-minus-one-year-and-counting/\" target=\"_self\">Mars 2020 Rover: T-Minus One Year and Counting </a>,\n",
       " <a href=\"/news/8460/nasa-racks-up-two-emmy-nominations-for-mission-coverage/\" target=\"_self\"><div class=\"rollover_description\"><div class=\"rollover_description_inner\">JPL's coverage of the Mars InSight mission is among the efforts that will be up for an award in mid-September.</div><div class=\"overlay_arrow\"><img alt=\"More\" src=\"/assets/overlay-arrow.png\"/></div></div><div class=\"list_image\"><img alt=\"reactions after receiving confirmation that the spacecraft successfully touched down on the surface of Mars\" src=\"/system/news_items/list_view_images/8460_list_image.jpg\"/></div><div class=\"bottom_gradient\"><div><h3>NASA Racks Up Two Emmy Nominations for Mission Coverage</h3></div></div></a>,\n",
       " <a href=\"/news/8460/nasa-racks-up-two-emmy-nominations-for-mission-coverage/\" target=\"_self\">NASA Racks Up Two Emmy Nominations for Mission Coverage</a>,\n",
       " <a class=\"button\" href=\"#\" type=\"button\">More</a>,\n",
       " <a href=\"/news/8426/nasa-garners-7-webby-award-nominations/\">\n",
       " <div class=\"rollover_description\">\n",
       " <div class=\"rollover_description_inner\">\n",
       " Nominees include four JPL projects: the solar system and climate websites, InSight social media, and a 360-degree Earth video. Public voting closes April 18, 2019.\n",
       " </div>\n",
       " <div class=\"overlay_arrow\">\n",
       " <img alt=\"More\" src=\"/assets/overlay-arrow.png\"/>\n",
       " </div>\n",
       " </div>\n",
       " <img alt=\"NASA Garners 7 Webby Award Nominations\" class=\"img-lazy\" data-lazy=\"/system/news_items/list_view_images/8426_Webby2019-320x240.jpg\" src=\"/assets/loading_320x240.png\"/>\n",
       " </a>,\n",
       " <a href=\"/news/8426/nasa-garners-7-webby-award-nominations/\">\n",
       " NASA Garners 7 Webby Award Nominations\n",
       " </a>,\n",
       " <a href=\"/news/8413/nasas-opportunity-rover-mission-on-mars-comes-to-end/\">\n",
       " <div class=\"rollover_description\">\n",
       " <div class=\"rollover_description_inner\">\n",
       " NASA's Opportunity Mars rover mission is complete after 15 years on Mars. Opportunity's record-breaking exploration laid the groundwork for future missions to the Red Planet.\n",
       " </div>\n",
       " <div class=\"overlay_arrow\">\n",
       " <img alt=\"More\" src=\"/assets/overlay-arrow.png\"/>\n",
       " </div>\n",
       " </div>\n",
       " <img alt=\"NASA's Opportunity Rover Mission on Mars Comes to End\" class=\"img-lazy\" data-lazy=\"/system/news_items/list_view_images/8413_PIA06739-320x240.jpg\" src=\"/assets/loading_320x240.png\"/>\n",
       " </a>,\n",
       " <a href=\"/news/8413/nasas-opportunity-rover-mission-on-mars-comes-to-end/\">\n",
       " NASA's Opportunity Rover Mission on Mars Comes to End\n",
       " </a>,\n",
       " <a href=\"/news/8402/nasas-insight-places-first-instrument-on-mars/\">\n",
       " <div class=\"rollover_description\">\n",
       " <div class=\"rollover_description_inner\">\n",
       " In deploying its first instrument onto the surface of Mars, the lander completes a major mission milestone.\n",
       " </div>\n",
       " <div class=\"overlay_arrow\">\n",
       " <img alt=\"More\" src=\"/assets/overlay-arrow.png\"/>\n",
       " </div>\n",
       " </div>\n",
       " <img alt=\"NASA's InSight Places First Instrument on Mars\" class=\"img-lazy\" data-lazy=\"/system/news_items/list_view_images/8402_PIA22977_SEIS_deploy_IDC_calibrated-th.gif\" src=\"/assets/loading_320x240.png\"/>\n",
       " </a>,\n",
       " <a href=\"/news/8402/nasas-insight-places-first-instrument-on-mars/\">\n",
       " NASA's InSight Places First Instrument on Mars\n",
       " </a>,\n",
       " <a href=\"/news/8508/nasa-invites-students-to-name-mars-2020-rover/\">\n",
       " <div class=\"rollover_description\">\n",
       " <div class=\"rollover_description_inner\">\n",
       " Through Nov. 1, K-12 students in the U.S. are encouraged to enter an essay contest to name NASA's next Mars rover.\n",
       " </div>\n",
       " <div class=\"overlay_arrow\">\n",
       " <img alt=\"More\" src=\"/assets/overlay-arrow.png\"/>\n",
       " </div>\n",
       " </div>\n",
       " <img alt=\"NASA Invites Students to Name Mars 2020 Rover\" class=\"img-lazy\" src=\"/system/news_items/list_view_images/8508_Name_A_unannotated_MAIN-th.jpg?1575437759243\" style=\"opacity: 1;\"/>\n",
       " </a>,\n",
       " <a href=\"/news/8508/nasa-invites-students-to-name-mars-2020-rover/\">\n",
       " NASA Invites Students to Name Mars 2020 Rover\n",
       " </a>,\n",
       " <a href=\"/news/8442/nasas-curiosity-mars-rover-finds-a-clay-cache/\">\n",
       " <div class=\"rollover_description\">\n",
       " <div class=\"rollover_description_inner\">\n",
       " The rover recently drilled two samples, and both showed the highest levels of clay ever found during the mission.\n",
       " </div>\n",
       " <div class=\"overlay_arrow\">\n",
       " <img alt=\"More\" src=\"/assets/overlay-arrow.png\"/>\n",
       " </div>\n",
       " </div>\n",
       " <img alt=\"NASA's Curiosity Mars Rover Finds a Clay Cache\" class=\"img-lazy\" src=\"/system/news_items/list_view_images/8442_PIA23240_32x24.jpg?1575437759243\" style=\"opacity: 1;\"/>\n",
       " </a>,\n",
       " <a href=\"/news/8442/nasas-curiosity-mars-rover-finds-a-clay-cache/\">\n",
       " NASA's Curiosity Mars Rover Finds a Clay Cache\n",
       " </a>,\n",
       " <a href=\"/news/8436/why-this-martian-full-moon-looks-like-candy/\">\n",
       " <div class=\"rollover_description\">\n",
       " <div class=\"rollover_description_inner\">\n",
       " For the first time, NASA's Mars Odyssey orbiter has caught the Martian moon Phobos during a full moon phase. Each color in this new image represents a temperature range detected by Odyssey's infrared camera.\n",
       " </div>\n",
       " <div class=\"overlay_arrow\">\n",
       " <img alt=\"More\" src=\"/assets/overlay-arrow.png\"/>\n",
       " </div>\n",
       " </div>\n",
       " <img alt=\"Why This Martian Full Moon Looks Like Candy\" class=\"img-lazy\" src=\"/system/news_items/list_view_images/8436_PIA23205_annotated-32x24.jpg?1575437759243\" style=\"opacity: 1;\"/>\n",
       " </a>,\n",
       " <a href=\"/news/8436/why-this-martian-full-moon-looks-like-candy/\">\n",
       " Why This Martian Full Moon Looks Like Candy\n",
       " </a>,\n",
       " <a href=\"/news/8426/nasa-garners-7-webby-award-nominations/\">\n",
       " <div class=\"rollover_description\">\n",
       " <div class=\"rollover_description_inner\">\n",
       " Nominees include four JPL projects: the solar system and climate websites, InSight social media, and a 360-degree Earth video. Public voting closes April 18, 2019.\n",
       " </div>\n",
       " <div class=\"overlay_arrow\">\n",
       " <img alt=\"More\" src=\"/assets/overlay-arrow.png\"/>\n",
       " </div>\n",
       " </div>\n",
       " <img alt=\"NASA Garners 7 Webby Award Nominations\" class=\"img-lazy\" data-lazy=\"/system/news_items/list_view_images/8426_Webby2019-320x240.jpg\" src=\"/assets/loading_320x240.png\"/>\n",
       " </a>,\n",
       " <a href=\"/news/8426/nasa-garners-7-webby-award-nominations/\">\n",
       " NASA Garners 7 Webby Award Nominations\n",
       " </a>,\n",
       " <a href=\"/news/8413/nasas-opportunity-rover-mission-on-mars-comes-to-end/\">\n",
       " <div class=\"rollover_description\">\n",
       " <div class=\"rollover_description_inner\">\n",
       " NASA's Opportunity Mars rover mission is complete after 15 years on Mars. Opportunity's record-breaking exploration laid the groundwork for future missions to the Red Planet.\n",
       " </div>\n",
       " <div class=\"overlay_arrow\">\n",
       " <img alt=\"More\" src=\"/assets/overlay-arrow.png\"/>\n",
       " </div>\n",
       " </div>\n",
       " <img alt=\"NASA's Opportunity Rover Mission on Mars Comes to End\" class=\"img-lazy\" data-lazy=\"/system/news_items/list_view_images/8413_PIA06739-320x240.jpg\" src=\"/assets/loading_320x240.png\"/>\n",
       " </a>,\n",
       " <a href=\"/news/8413/nasas-opportunity-rover-mission-on-mars-comes-to-end/\">\n",
       " NASA's Opportunity Rover Mission on Mars Comes to End\n",
       " </a>,\n",
       " <a href=\"/news/8402/nasas-insight-places-first-instrument-on-mars/\">\n",
       " <div class=\"rollover_description\">\n",
       " <div class=\"rollover_description_inner\">\n",
       " In deploying its first instrument onto the surface of Mars, the lander completes a major mission milestone.\n",
       " </div>\n",
       " <div class=\"overlay_arrow\">\n",
       " <img alt=\"More\" src=\"/assets/overlay-arrow.png\"/>\n",
       " </div>\n",
       " </div>\n",
       " <img alt=\"NASA's InSight Places First Instrument on Mars\" class=\"img-lazy\" data-lazy=\"/system/news_items/list_view_images/8402_PIA22977_SEIS_deploy_IDC_calibrated-th.gif\" src=\"/assets/loading_320x240.png\"/>\n",
       " </a>,\n",
       " <a href=\"/news/8402/nasas-insight-places-first-instrument-on-mars/\">\n",
       " NASA's InSight Places First Instrument on Mars\n",
       " </a>,\n",
       " <a href=\"/news/8508/nasa-invites-students-to-name-mars-2020-rover/\">\n",
       " <div class=\"rollover_description\">\n",
       " <div class=\"rollover_description_inner\">\n",
       " Through Nov. 1, K-12 students in the U.S. are encouraged to enter an essay contest to name NASA's next Mars rover.\n",
       " </div>\n",
       " <div class=\"overlay_arrow\">\n",
       " <img alt=\"More\" src=\"/assets/overlay-arrow.png\"/>\n",
       " </div>\n",
       " </div>\n",
       " <img alt=\"NASA Invites Students to Name Mars 2020 Rover\" class=\"img-lazy\" src=\"/system/news_items/list_view_images/8508_Name_A_unannotated_MAIN-th.jpg?1575437759244\" style=\"opacity: 1;\"/>\n",
       " </a>,\n",
       " <a href=\"/news/8508/nasa-invites-students-to-name-mars-2020-rover/\">\n",
       " NASA Invites Students to Name Mars 2020 Rover\n",
       " </a>,\n",
       " <a href=\"/news/8442/nasas-curiosity-mars-rover-finds-a-clay-cache/\">\n",
       " <div class=\"rollover_description\">\n",
       " <div class=\"rollover_description_inner\">\n",
       " The rover recently drilled two samples, and both showed the highest levels of clay ever found during the mission.\n",
       " </div>\n",
       " <div class=\"overlay_arrow\">\n",
       " <img alt=\"More\" src=\"/assets/overlay-arrow.png\"/>\n",
       " </div>\n",
       " </div>\n",
       " <img alt=\"NASA's Curiosity Mars Rover Finds a Clay Cache\" class=\"img-lazy\" src=\"/system/news_items/list_view_images/8442_PIA23240_32x24.jpg?1575437759244\" style=\"opacity: 1;\"/>\n",
       " </a>,\n",
       " <a href=\"/news/8442/nasas-curiosity-mars-rover-finds-a-clay-cache/\">\n",
       " NASA's Curiosity Mars Rover Finds a Clay Cache\n",
       " </a>,\n",
       " <a href=\"/news/8436/why-this-martian-full-moon-looks-like-candy/\">\n",
       " <div class=\"rollover_description\">\n",
       " <div class=\"rollover_description_inner\">\n",
       " For the first time, NASA's Mars Odyssey orbiter has caught the Martian moon Phobos during a full moon phase. Each color in this new image represents a temperature range detected by Odyssey's infrared camera.\n",
       " </div>\n",
       " <div class=\"overlay_arrow\">\n",
       " <img alt=\"More\" src=\"/assets/overlay-arrow.png\"/>\n",
       " </div>\n",
       " </div>\n",
       " <img alt=\"Why This Martian Full Moon Looks Like Candy\" class=\"img-lazy\" src=\"/system/news_items/list_view_images/8436_PIA23205_annotated-32x24.jpg?1575437759244\" style=\"opacity: 1;\"/>\n",
       " </a>,\n",
       " <a href=\"/news/8436/why-this-martian-full-moon-looks-like-candy/\">\n",
       " Why This Martian Full Moon Looks Like Candy\n",
       " </a>,\n",
       " <a addthis:userid=\"MarsCuriosity\" class=\"addthis_button_twitter_follow icon at300b\" href=\"//twitter.com/MarsCuriosity\" target=\"_blank\" title=\"Follow on Twitter\">\n",
       " <img alt=\"twitter\" src=\"/assets/twitter_icon@2x.png\"/>\n",
       " <span class=\"addthis_follow_label\">Twitter</span></a>,\n",
       " <a addthis:userid=\"MarsCuriosity\" class=\"addthis_button_facebook_follow icon at300b\" href=\"http://www.facebook.com/MarsCuriosity\" target=\"_blank\" title=\"Follow on Facebook\">\n",
       " <img alt=\"facebook\" src=\"/assets/facebook_icon@2x.png\"/>\n",
       " <span class=\"addthis_follow_label\">Facebook</span></a>,\n",
       " <a addthis:userid=\"nasa\" class=\"addthis_button_instagram_follow icon at300b\" href=\"http://instagram.com/nasa\" target=\"_blank\" title=\"Follow on Instagram\">\n",
       " <img alt=\"instagram\" src=\"/assets/instagram_icon@2x.png\"/>\n",
       " <span class=\"addthis_follow_label\">Instagram</span></a>,\n",
       " <a addthis:url=\"https://mars.nasa.gov/rss/api/?feed=news&amp;category=all&amp;feedtype=rss\" class=\"addthis_button_rss_follow icon at300b\" href=\"https://mars.nasa.gov/rss/api/?feed=news&amp;category=all&amp;feedtype=rss\" target=\"_blank\" title=\"Follow on RSS\">\n",
       " <img alt=\"rss\" src=\"/assets/rss_icon@2x.png\"/>\n",
       " <span class=\"addthis_follow_label\">RSS</span></a>,\n",
       " <a href=\"/#red_planet\">The Red Planet</a>,\n",
       " <a href=\"/#red_planet/0\" target=\"_self\">Dashboard</a>,\n",
       " <a href=\"/#red_planet/1\" target=\"_self\">Science Goals</a>,\n",
       " <a href=\"/#red_planet/2\" target=\"_self\">The Planet</a>,\n",
       " <a href=\"/#red_planet/3\" target=\"_self\">Atmosphere</a>,\n",
       " <a href=\"/#red_planet/4\" target=\"_self\">Astrobiology</a>,\n",
       " <a href=\"/#red_planet/5\" target=\"_self\">Past, Present, Future, Timeline</a>,\n",
       " <a href=\"/#mars_exploration_program\">The Program</a>,\n",
       " <a href=\"/#mars_exploration_program/0\" target=\"_self\">Mission Statement</a>,\n",
       " <a href=\"/#mars_exploration_program/1\" target=\"_self\">About the Program</a>,\n",
       " <a href=\"/#mars_exploration_program/2\" target=\"_self\">Organization</a>,\n",
       " <a href=\"/#mars_exploration_program/3\" target=\"_self\">Why Mars?</a>,\n",
       " <a href=\"/#mars_exploration_program/4\" target=\"_self\">Research Programs</a>,\n",
       " <a href=\"/#mars_exploration_program/5\" target=\"_self\">Planetary Resources</a>,\n",
       " <a href=\"/#mars_exploration_program/6\" target=\"_self\">Technologies</a>,\n",
       " <a href=\"/#news_and_events\">News &amp; Events</a>,\n",
       " <a href=\"/news\" target=\"_self\">News</a>,\n",
       " <a href=\"/events\" target=\"_self\">Events</a>,\n",
       " <a href=\"/#multimedia\">Multimedia</a>,\n",
       " <a href=\"/multimedia/images/\" target=\"_self\">Images</a>,\n",
       " <a href=\"/multimedia/videos/\" target=\"_self\">Videos</a>,\n",
       " <a href=\"/#missions\">Missions</a>,\n",
       " <a href=\"/mars-exploration/missions/?category=167\" target=\"_self\">Past</a>,\n",
       " <a href=\"/mars-exploration/missions/?category=170\" target=\"_self\">Present</a>,\n",
       " <a href=\"/mars-exploration/missions/?category=171\" target=\"_self\">Future</a>,\n",
       " <a href=\"/mars-exploration/partners\" target=\"_self\">International Partners</a>,\n",
       " <a href=\"/#more\">More</a>,\n",
       " <a href=\"http://science.nasa.gov/\" target=\"_blank\">NASA Science Mission Directorate</a>,\n",
       " <a href=\"https://www.jpl.nasa.gov/copyrights.php\" target=\"_blank\">Privacy</a>,\n",
       " <a href=\"http://www.jpl.nasa.gov/imagepolicy/\" target=\"_blank\">Image Policy</a>,\n",
       " <a href=\"https://mars.nasa.gov/feedback/\" target=\"_self\">Feedback</a>,\n",
       " <a class=\"at-share-btn at-svc-facebook\" role=\"button\" tabindex=\"0\"><span class=\"at4-visually-hidden\">Share to Facebook</span><span class=\"at-icon-wrapper\" style=\"background-color: rgb(59, 89, 152);\"><svg aria-labelledby=\"at-svg-facebook-1\" class=\"at-icon at-icon-facebook\" role=\"img\" style=\"fill: rgb(255, 255, 255);\" version=\"1.1\" viewbox=\"0 0 32 32\" xmlns=\"http://www.w3.org/2000/svg\" xmlns:xlink=\"http://www.w3.org/1999/xlink\"><title id=\"at-svg-facebook-1\">Facebook</title><g><path d=\"M22 5.16c-.406-.054-1.806-.16-3.43-.16-3.4 0-5.733 1.825-5.733 5.17v2.882H9v3.913h3.837V27h4.604V16.965h3.823l.587-3.913h-4.41v-2.5c0-1.123.347-1.903 2.198-1.903H22V5.16z\" fill-rule=\"evenodd\"></path></g></svg></span></a>,\n",
       " <a class=\"at-share-btn at-svc-twitter\" role=\"button\" tabindex=\"0\"><span class=\"at4-visually-hidden\">Share to Twitter</span><span class=\"at-icon-wrapper\" style=\"background-color: rgb(29, 161, 242);\"><svg aria-labelledby=\"at-svg-twitter-2\" class=\"at-icon at-icon-twitter\" role=\"img\" style=\"fill: rgb(255, 255, 255);\" version=\"1.1\" viewbox=\"0 0 32 32\" xmlns=\"http://www.w3.org/2000/svg\" xmlns:xlink=\"http://www.w3.org/1999/xlink\"><title id=\"at-svg-twitter-2\">Twitter</title><g><path d=\"M27.996 10.116c-.81.36-1.68.602-2.592.71a4.526 4.526 0 0 0 1.984-2.496 9.037 9.037 0 0 1-2.866 1.095 4.513 4.513 0 0 0-7.69 4.116 12.81 12.81 0 0 1-9.3-4.715 4.49 4.49 0 0 0-.612 2.27 4.51 4.51 0 0 0 2.008 3.755 4.495 4.495 0 0 1-2.044-.564v.057a4.515 4.515 0 0 0 3.62 4.425 4.52 4.52 0 0 1-2.04.077 4.517 4.517 0 0 0 4.217 3.134 9.055 9.055 0 0 1-5.604 1.93A9.18 9.18 0 0 1 6 23.85a12.773 12.773 0 0 0 6.918 2.027c8.3 0 12.84-6.876 12.84-12.84 0-.195-.005-.39-.014-.583a9.172 9.172 0 0 0 2.252-2.336\" fill-rule=\"evenodd\"></path></g></svg></span></a>,\n",
       " <a class=\"at-share-btn at-svc-reddit\" role=\"button\" tabindex=\"0\"><span class=\"at4-visually-hidden\">Share to Reddit</span><span class=\"at-icon-wrapper\" style=\"background-color: rgb(255, 87, 0);\"><svg aria-labelledby=\"at-svg-reddit-3\" class=\"at-icon at-icon-reddit\" role=\"img\" style=\"fill: rgb(255, 255, 255);\" version=\"1.1\" viewbox=\"0 0 32 32\" xmlns=\"http://www.w3.org/2000/svg\" xmlns:xlink=\"http://www.w3.org/1999/xlink\"><title id=\"at-svg-reddit-3\">Reddit</title><g><path d=\"M27 15.5a2.452 2.452 0 0 1-1.338 2.21c.098.38.147.777.147 1.19 0 1.283-.437 2.47-1.308 3.563-.872 1.092-2.06 1.955-3.567 2.588-1.506.634-3.143.95-4.91.95-1.768 0-3.403-.316-4.905-.95-1.502-.632-2.69-1.495-3.56-2.587-.872-1.092-1.308-2.28-1.308-3.562 0-.388.045-.777.135-1.166a2.47 2.47 0 0 1-1.006-.912c-.253-.4-.38-.842-.38-1.322 0-.678.237-1.26.712-1.744a2.334 2.334 0 0 1 1.73-.726c.697 0 1.29.26 1.78.782 1.785-1.258 3.893-1.928 6.324-2.01l1.424-6.467a.42.42 0 0 1 .184-.26.4.4 0 0 1 .32-.063l4.53 1.006c.147-.306.368-.553.662-.74a1.78 1.78 0 0 1 .97-.278c.508 0 .94.18 1.302.54.36.36.54.796.54 1.31 0 .512-.18.95-.54 1.315-.36.364-.794.546-1.302.546-.507 0-.94-.18-1.295-.54a1.793 1.793 0 0 1-.533-1.308l-4.1-.92-1.277 5.86c2.455.074 4.58.736 6.37 1.985a2.315 2.315 0 0 1 1.757-.757c.68 0 1.256.242 1.73.726.476.484.713 1.066.713 1.744zm-16.868 2.47c0 .513.178.95.534 1.315.356.365.787.547 1.295.547.508 0 .942-.182 1.302-.547.36-.364.54-.802.54-1.315 0-.513-.18-.95-.54-1.31-.36-.36-.794-.54-1.3-.54-.5 0-.93.183-1.29.547a1.79 1.79 0 0 0-.54 1.303zm9.944 4.406c.09-.09.135-.2.135-.323a.444.444 0 0 0-.44-.447c-.124 0-.23.042-.32.124-.336.348-.83.605-1.486.77a7.99 7.99 0 0 1-1.964.248 7.99 7.99 0 0 1-1.964-.248c-.655-.165-1.15-.422-1.486-.77a.456.456 0 0 0-.32-.124.414.414 0 0 0-.306.124.41.41 0 0 0-.135.317.45.45 0 0 0 .134.33c.352.355.837.636 1.455.843.617.207 1.118.33 1.503.366a11.6 11.6 0 0 0 1.117.056c.36 0 .733-.02 1.117-.056.385-.037.886-.16 1.504-.366.62-.207 1.104-.488 1.456-.844zm-.037-2.544c.507 0 .938-.182 1.294-.547.356-.364.534-.802.534-1.315 0-.505-.18-.94-.54-1.303a1.75 1.75 0 0 0-1.29-.546c-.506 0-.94.18-1.3.54-.36.36-.54.797-.54 1.31s.18.95.54 1.315c.36.365.794.547 1.3.547z\" fill-rule=\"evenodd\"></path></g></svg></span></a>,\n",
       " <a class=\"at-share-btn at-svc-email\" role=\"button\" tabindex=\"0\"><span class=\"at4-visually-hidden\">Share to Email</span><span class=\"at-icon-wrapper\" style=\"background-color: rgb(132, 132, 132);\"><svg aria-labelledby=\"at-svg-email-4\" class=\"at-icon at-icon-email\" role=\"img\" style=\"fill: rgb(255, 255, 255);\" version=\"1.1\" viewbox=\"0 0 32 32\" xmlns=\"http://www.w3.org/2000/svg\" xmlns:xlink=\"http://www.w3.org/1999/xlink\"><title id=\"at-svg-email-4\">Email</title><g><g fill-rule=\"evenodd\"></g><path d=\"M27 22.757c0 1.24-.988 2.243-2.19 2.243H7.19C5.98 25 5 23.994 5 22.757V13.67c0-.556.39-.773.855-.496l8.78 5.238c.782.467 1.95.467 2.73 0l8.78-5.238c.472-.28.855-.063.855.495v9.087z\"></path><path d=\"M27 9.243C27 8.006 26.02 7 24.81 7H7.19C5.988 7 5 8.004 5 9.243v.465c0 .554.385 1.232.857 1.514l9.61 5.733c.267.16.8.16 1.067 0l9.61-5.733c.473-.283.856-.96.856-1.514v-.465z\"></path></g></svg></span></a>,\n",
       " <a class=\"at-share-btn at-svc-compact\" role=\"button\" tabindex=\"0\"><span class=\"at4-visually-hidden\">More AddThis Share options</span><span class=\"at-icon-wrapper\" style=\"background-color: rgb(255, 101, 80);\"><svg aria-labelledby=\"at-svg-addthis-5\" class=\"at-icon at-icon-addthis\" role=\"img\" style=\"fill: rgb(255, 255, 255);\" version=\"1.1\" viewbox=\"0 0 32 32\" xmlns=\"http://www.w3.org/2000/svg\" xmlns:xlink=\"http://www.w3.org/1999/xlink\"><title id=\"at-svg-addthis-5\">AddThis</title><g><path d=\"M18 14V8h-4v6H8v4h6v6h4v-6h6v-4h-6z\" fill-rule=\"evenodd\"></path></g></svg></span></a>,\n",
       " <a id=\"at4-palogo\"><div><a class=\"at-branding-logo\" href=\"https://www.addthis.com/website-tools/overview?utm_source=AddThis%20Tools&amp;utm_medium=image\" target=\"_blank\" title=\"Powered by AddThis\"><div class=\"at-branding-icon\"></div><span class=\"at-branding-addthis\">AddThis</span></a></div></a>,\n",
       " <a class=\"at-branding-logo\" href=\"https://www.addthis.com/website-tools/overview?utm_source=AddThis%20Tools&amp;utm_medium=image\" target=\"_blank\" title=\"Powered by AddThis\"><div class=\"at-branding-icon\"></div><span class=\"at-branding-addthis\">AddThis</span></a>,\n",
       " <a class=\"at4-count\" href=\"#\" style=\"width: 16.6667%;\"><span class=\"at4-counter\"></span><span class=\"at4-share-label\">SHARES</span></a>,\n",
       " <a class=\"at-share-btn at-svc-facebook\" role=\"button\" style=\"width: 16.6667%;\" tabindex=\"0\" title=\"Facebook\"><span class=\"at-icon-wrapper\" style=\"background-color: rgb(59, 89, 152);\"><svg alt=\"Facebook\" aria-labelledby=\"at-svg-facebook-6\" class=\"at-icon at-icon-facebook\" role=\"img\" style=\"fill: rgb(255, 255, 255); width: 24px; height: 24px;\" title=\"Facebook\" version=\"1.1\" viewbox=\"0 0 32 32\" xmlns=\"http://www.w3.org/2000/svg\" xmlns:xlink=\"http://www.w3.org/1999/xlink\"><title id=\"at-svg-facebook-6\">Facebook</title><g><path d=\"M22 5.16c-.406-.054-1.806-.16-3.43-.16-3.4 0-5.733 1.825-5.733 5.17v2.882H9v3.913h3.837V27h4.604V16.965h3.823l.587-3.913h-4.41v-2.5c0-1.123.347-1.903 2.198-1.903H22V5.16z\" fill-rule=\"evenodd\"></path></g></svg></span></a>,\n",
       " <a class=\"at-share-btn at-svc-twitter\" role=\"button\" style=\"width: 16.6667%;\" tabindex=\"0\" title=\"Twitter\"><span class=\"at-icon-wrapper\" style=\"background-color: rgb(29, 161, 242);\"><svg alt=\"Twitter\" aria-labelledby=\"at-svg-twitter-7\" class=\"at-icon at-icon-twitter\" role=\"img\" style=\"fill: rgb(255, 255, 255); width: 24px; height: 24px;\" title=\"Twitter\" version=\"1.1\" viewbox=\"0 0 32 32\" xmlns=\"http://www.w3.org/2000/svg\" xmlns:xlink=\"http://www.w3.org/1999/xlink\"><title id=\"at-svg-twitter-7\">Twitter</title><g><path d=\"M27.996 10.116c-.81.36-1.68.602-2.592.71a4.526 4.526 0 0 0 1.984-2.496 9.037 9.037 0 0 1-2.866 1.095 4.513 4.513 0 0 0-7.69 4.116 12.81 12.81 0 0 1-9.3-4.715 4.49 4.49 0 0 0-.612 2.27 4.51 4.51 0 0 0 2.008 3.755 4.495 4.495 0 0 1-2.044-.564v.057a4.515 4.515 0 0 0 3.62 4.425 4.52 4.52 0 0 1-2.04.077 4.517 4.517 0 0 0 4.217 3.134 9.055 9.055 0 0 1-5.604 1.93A9.18 9.18 0 0 1 6 23.85a12.773 12.773 0 0 0 6.918 2.027c8.3 0 12.84-6.876 12.84-12.84 0-.195-.005-.39-.014-.583a9.172 9.172 0 0 0 2.252-2.336\" fill-rule=\"evenodd\"></path></g></svg></span></a>,\n",
       " <a class=\"at-share-btn at-svc-reddit\" role=\"button\" style=\"width: 16.6667%;\" tabindex=\"0\" title=\"Reddit\"><span class=\"at-icon-wrapper\" style=\"background-color: rgb(255, 87, 0);\"><svg alt=\"Reddit\" aria-labelledby=\"at-svg-reddit-8\" class=\"at-icon at-icon-reddit\" role=\"img\" style=\"fill: rgb(255, 255, 255); width: 24px; height: 24px;\" title=\"Reddit\" version=\"1.1\" viewbox=\"0 0 32 32\" xmlns=\"http://www.w3.org/2000/svg\" xmlns:xlink=\"http://www.w3.org/1999/xlink\"><title id=\"at-svg-reddit-8\">Reddit</title><g><path d=\"M27 15.5a2.452 2.452 0 0 1-1.338 2.21c.098.38.147.777.147 1.19 0 1.283-.437 2.47-1.308 3.563-.872 1.092-2.06 1.955-3.567 2.588-1.506.634-3.143.95-4.91.95-1.768 0-3.403-.316-4.905-.95-1.502-.632-2.69-1.495-3.56-2.587-.872-1.092-1.308-2.28-1.308-3.562 0-.388.045-.777.135-1.166a2.47 2.47 0 0 1-1.006-.912c-.253-.4-.38-.842-.38-1.322 0-.678.237-1.26.712-1.744a2.334 2.334 0 0 1 1.73-.726c.697 0 1.29.26 1.78.782 1.785-1.258 3.893-1.928 6.324-2.01l1.424-6.467a.42.42 0 0 1 .184-.26.4.4 0 0 1 .32-.063l4.53 1.006c.147-.306.368-.553.662-.74a1.78 1.78 0 0 1 .97-.278c.508 0 .94.18 1.302.54.36.36.54.796.54 1.31 0 .512-.18.95-.54 1.315-.36.364-.794.546-1.302.546-.507 0-.94-.18-1.295-.54a1.793 1.793 0 0 1-.533-1.308l-4.1-.92-1.277 5.86c2.455.074 4.58.736 6.37 1.985a2.315 2.315 0 0 1 1.757-.757c.68 0 1.256.242 1.73.726.476.484.713 1.066.713 1.744zm-16.868 2.47c0 .513.178.95.534 1.315.356.365.787.547 1.295.547.508 0 .942-.182 1.302-.547.36-.364.54-.802.54-1.315 0-.513-.18-.95-.54-1.31-.36-.36-.794-.54-1.3-.54-.5 0-.93.183-1.29.547a1.79 1.79 0 0 0-.54 1.303zm9.944 4.406c.09-.09.135-.2.135-.323a.444.444 0 0 0-.44-.447c-.124 0-.23.042-.32.124-.336.348-.83.605-1.486.77a7.99 7.99 0 0 1-1.964.248 7.99 7.99 0 0 1-1.964-.248c-.655-.165-1.15-.422-1.486-.77a.456.456 0 0 0-.32-.124.414.414 0 0 0-.306.124.41.41 0 0 0-.135.317.45.45 0 0 0 .134.33c.352.355.837.636 1.455.843.617.207 1.118.33 1.503.366a11.6 11.6 0 0 0 1.117.056c.36 0 .733-.02 1.117-.056.385-.037.886-.16 1.504-.366.62-.207 1.104-.488 1.456-.844zm-.037-2.544c.507 0 .938-.182 1.294-.547.356-.364.534-.802.534-1.315 0-.505-.18-.94-.54-1.303a1.75 1.75 0 0 0-1.29-.546c-.506 0-.94.18-1.3.54-.36.36-.54.797-.54 1.31s.18.95.54 1.315c.36.365.794.547 1.3.547z\" fill-rule=\"evenodd\"></path></g></svg></span></a>,\n",
       " <a class=\"at-share-btn at-svc-email\" role=\"button\" style=\"width: 16.6667%;\" tabindex=\"0\" title=\"Email\"><span class=\"at-icon-wrapper\" style=\"background-color: rgb(132, 132, 132);\"><svg alt=\"Email\" aria-labelledby=\"at-svg-email-9\" class=\"at-icon at-icon-email\" role=\"img\" style=\"fill: rgb(255, 255, 255); width: 24px; height: 24px;\" title=\"Email\" version=\"1.1\" viewbox=\"0 0 32 32\" xmlns=\"http://www.w3.org/2000/svg\" xmlns:xlink=\"http://www.w3.org/1999/xlink\"><title id=\"at-svg-email-9\">Email</title><g><g fill-rule=\"evenodd\"></g><path d=\"M27 22.757c0 1.24-.988 2.243-2.19 2.243H7.19C5.98 25 5 23.994 5 22.757V13.67c0-.556.39-.773.855-.496l8.78 5.238c.782.467 1.95.467 2.73 0l8.78-5.238c.472-.28.855-.063.855.495v9.087z\"></path><path d=\"M27 9.243C27 8.006 26.02 7 24.81 7H7.19C5.988 7 5 8.004 5 9.243v.465c0 .554.385 1.232.857 1.514l9.61 5.733c.267.16.8.16 1.067 0l9.61-5.733c.473-.283.856-.96.856-1.514v-.465z\"></path></g></svg></span></a>,\n",
       " <a class=\"at-share-btn at-svc-compact\" role=\"button\" style=\"width: 16.6667%;\" tabindex=\"0\" title=\"More\"><span class=\"at-icon-wrapper\" style=\"background-color: rgb(255, 101, 80);\"><svg alt=\"More\" aria-labelledby=\"at-svg-addthis-10\" class=\"at-icon at-icon-addthis\" role=\"img\" style=\"fill: rgb(255, 255, 255); width: 24px; height: 24px;\" title=\"More\" version=\"1.1\" viewbox=\"0 0 32 32\" xmlns=\"http://www.w3.org/2000/svg\" xmlns:xlink=\"http://www.w3.org/1999/xlink\"><title id=\"at-svg-addthis-10\">AddThis</title><g><path d=\"M18 14V8h-4v6H8v4h6v6h4v-6h6v-4h-6z\" fill-rule=\"evenodd\"></path></g></svg></span></a>]"
      ]
     },
     "execution_count": 6,
     "metadata": {},
     "output_type": "execute_result"
    }
   ],
   "source": [
    "soup = BeautifulSoup(html, 'html.parser')\n",
    "soup.find_all('a')"
   ]
  },
  {
   "cell_type": "code",
   "execution_count": 7,
   "metadata": {},
   "outputs": [
    {
     "data": {
      "text/plain": [
       "\"NASA's Briefcase-Size MarCO Satellite Picks Up Honors\""
      ]
     },
     "execution_count": 7,
     "metadata": {},
     "output_type": "execute_result"
    }
   ],
   "source": [
    "#soup.find_all('a')[0].text\n",
    "#soup.find_all('a')[1].text\n",
    "soup.find('div', class_=\"content_title\").get_text()\n",
    "#soup.find_all('a')[3].text"
   ]
  },
  {
   "cell_type": "code",
   "execution_count": 8,
   "metadata": {},
   "outputs": [
    {
     "data": {
      "text/plain": [
       "'The twin spacecraft, the first of their kind to fly into deep space, earn a Laureate from Aviation Week & Space Technology.'"
      ]
     },
     "execution_count": 8,
     "metadata": {},
     "output_type": "execute_result"
    }
   ],
   "source": [
    "soup.find('div', class_=\"article_teaser_body\").get_text()"
   ]
  },
  {
   "cell_type": "markdown",
   "metadata": {},
   "source": [
    "<h1>Featured Image</h1>"
   ]
  },
  {
   "cell_type": "code",
   "execution_count": 9,
   "metadata": {},
   "outputs": [],
   "source": [
    "browser.visit(\"https://www.jpl.nasa.gov/spaceimages/?search=&category=Mars\")"
   ]
  },
  {
   "cell_type": "code",
   "execution_count": 10,
   "metadata": {},
   "outputs": [
    {
     "data": {
      "text/plain": [
       "<splinter.element_list.ElementList at 0x1cf8ba724e0>"
      ]
     },
     "execution_count": 10,
     "metadata": {},
     "output_type": "execute_result"
    }
   ],
   "source": [
    "browser.find_by_id('full_image')"
   ]
  },
  {
   "cell_type": "code",
   "execution_count": 11,
   "metadata": {},
   "outputs": [],
   "source": [
    "featured_image_url = browser.find_by_id('full_image')"
   ]
  },
  {
   "cell_type": "code",
   "execution_count": 12,
   "metadata": {},
   "outputs": [],
   "source": [
    "featured_image_url.click()"
   ]
  },
  {
   "cell_type": "code",
   "execution_count": 13,
   "metadata": {},
   "outputs": [],
   "source": [
    "html = browser.html"
   ]
  },
  {
   "cell_type": "code",
   "execution_count": 14,
   "metadata": {},
   "outputs": [],
   "source": [
    "# html.get\n",
    "soup = BeautifulSoup(html, 'html.parser')"
   ]
  },
  {
   "cell_type": "code",
   "execution_count": 15,
   "metadata": {},
   "outputs": [],
   "source": [
    "# soup.select_one(\"body img\").get(\"src\")"
   ]
  },
  {
   "cell_type": "code",
   "execution_count": 16,
   "metadata": {},
   "outputs": [],
   "source": [
    "# soup.find_all('img')"
   ]
  },
  {
   "cell_type": "code",
   "execution_count": 17,
   "metadata": {},
   "outputs": [],
   "source": [
    "# body = soup.find('body')\n",
    "# body_text = body.findChildren('img')"
   ]
  },
  {
   "cell_type": "code",
   "execution_count": 18,
   "metadata": {},
   "outputs": [],
   "source": [
    "# body_text"
   ]
  },
  {
   "cell_type": "code",
   "execution_count": 71,
   "metadata": {},
   "outputs": [],
   "source": [
    "img_url_rel = soup.select_one('article', class_='carousel_item')"
   ]
  },
  {
   "cell_type": "code",
   "execution_count": 78,
   "metadata": {},
   "outputs": [],
   "source": [
    "featured_img_url = \"https://www.jpl.nasa.gov\" + img_url_rel['style'].split(\"'\")[1]\n",
    "# print(img_url_rel['style'].split(\"'\")[1])"
   ]
  },
  {
   "cell_type": "code",
   "execution_count": 79,
   "metadata": {},
   "outputs": [
    {
     "name": "stdout",
     "output_type": "stream",
     "text": [
      "https://www.jpl.nasa.gov/spaceimages/images/wallpaper/PIA01384-1920x1200.jpg\n"
     ]
    }
   ],
   "source": [
    "print(featured_img_url)"
   ]
  },
  {
   "cell_type": "code",
   "execution_count": 21,
   "metadata": {},
   "outputs": [
    {
     "ename": "TypeError",
     "evalue": "'NoneType' object is not callable",
     "output_type": "error",
     "traceback": [
      "\u001b[1;31m---------------------------------------------------------------------------\u001b[0m",
      "\u001b[1;31mTypeError\u001b[0m                                 Traceback (most recent call last)",
      "\u001b[1;32m<ipython-input-21-31a7315c2d2a>\u001b[0m in \u001b[0;36m<module>\u001b[1;34m\u001b[0m\n\u001b[0;32m      4\u001b[0m     \u001b[1;32mreturn\u001b[0m \u001b[0mis_strong\u001b[0m \u001b[1;32mand\u001b[0m \u001b[0mis_important\u001b[0m\u001b[1;33m\u001b[0m\u001b[1;33m\u001b[0m\u001b[0m\n\u001b[0;32m      5\u001b[0m \u001b[1;33m\u001b[0m\u001b[0m\n\u001b[1;32m----> 6\u001b[1;33m \u001b[0mimportant_values\u001b[0m \u001b[1;33m=\u001b[0m \u001b[0mint\u001b[0m\u001b[1;33m(\u001b[0m\u001b[0msoup\u001b[0m\u001b[1;33m.\u001b[0m\u001b[0mfind\u001b[0m\u001b[1;33m(\u001b[0m\u001b[0msearch_function\u001b[0m\u001b[1;33m)\u001b[0m\u001b[1;33m.\u001b[0m\u001b[0mget_text\u001b[0m\u001b[1;33m(\u001b[0m\u001b[1;33m)\u001b[0m\u001b[1;33m)\u001b[0m\u001b[1;33m\u001b[0m\u001b[1;33m\u001b[0m\u001b[0m\n\u001b[0m",
      "\u001b[1;32mC:\\Users\\Public\\Anaconda3\\envs\\PythonData1\\lib\\site-packages\\bs4\\element.py\u001b[0m in \u001b[0;36mfind\u001b[1;34m(self, name, attrs, recursive, text, **kwargs)\u001b[0m\n\u001b[0;32m   1256\u001b[0m         criteria.\"\"\"\n\u001b[0;32m   1257\u001b[0m         \u001b[0mr\u001b[0m \u001b[1;33m=\u001b[0m \u001b[1;32mNone\u001b[0m\u001b[1;33m\u001b[0m\u001b[1;33m\u001b[0m\u001b[0m\n\u001b[1;32m-> 1258\u001b[1;33m         \u001b[0ml\u001b[0m \u001b[1;33m=\u001b[0m \u001b[0mself\u001b[0m\u001b[1;33m.\u001b[0m\u001b[0mfind_all\u001b[0m\u001b[1;33m(\u001b[0m\u001b[0mname\u001b[0m\u001b[1;33m,\u001b[0m \u001b[0mattrs\u001b[0m\u001b[1;33m,\u001b[0m \u001b[0mrecursive\u001b[0m\u001b[1;33m,\u001b[0m \u001b[0mtext\u001b[0m\u001b[1;33m,\u001b[0m \u001b[1;36m1\u001b[0m\u001b[1;33m,\u001b[0m \u001b[1;33m**\u001b[0m\u001b[0mkwargs\u001b[0m\u001b[1;33m)\u001b[0m\u001b[1;33m\u001b[0m\u001b[1;33m\u001b[0m\u001b[0m\n\u001b[0m\u001b[0;32m   1259\u001b[0m         \u001b[1;32mif\u001b[0m \u001b[0ml\u001b[0m\u001b[1;33m:\u001b[0m\u001b[1;33m\u001b[0m\u001b[1;33m\u001b[0m\u001b[0m\n\u001b[0;32m   1260\u001b[0m             \u001b[0mr\u001b[0m \u001b[1;33m=\u001b[0m \u001b[0ml\u001b[0m\u001b[1;33m[\u001b[0m\u001b[1;36m0\u001b[0m\u001b[1;33m]\u001b[0m\u001b[1;33m\u001b[0m\u001b[1;33m\u001b[0m\u001b[0m\n",
      "\u001b[1;32mC:\\Users\\Public\\Anaconda3\\envs\\PythonData1\\lib\\site-packages\\bs4\\element.py\u001b[0m in \u001b[0;36mfind_all\u001b[1;34m(self, name, attrs, recursive, text, limit, **kwargs)\u001b[0m\n\u001b[0;32m   1277\u001b[0m         \u001b[1;32mif\u001b[0m \u001b[1;32mnot\u001b[0m \u001b[0mrecursive\u001b[0m\u001b[1;33m:\u001b[0m\u001b[1;33m\u001b[0m\u001b[1;33m\u001b[0m\u001b[0m\n\u001b[0;32m   1278\u001b[0m             \u001b[0mgenerator\u001b[0m \u001b[1;33m=\u001b[0m \u001b[0mself\u001b[0m\u001b[1;33m.\u001b[0m\u001b[0mchildren\u001b[0m\u001b[1;33m\u001b[0m\u001b[1;33m\u001b[0m\u001b[0m\n\u001b[1;32m-> 1279\u001b[1;33m         \u001b[1;32mreturn\u001b[0m \u001b[0mself\u001b[0m\u001b[1;33m.\u001b[0m\u001b[0m_find_all\u001b[0m\u001b[1;33m(\u001b[0m\u001b[0mname\u001b[0m\u001b[1;33m,\u001b[0m \u001b[0mattrs\u001b[0m\u001b[1;33m,\u001b[0m \u001b[0mtext\u001b[0m\u001b[1;33m,\u001b[0m \u001b[0mlimit\u001b[0m\u001b[1;33m,\u001b[0m \u001b[0mgenerator\u001b[0m\u001b[1;33m,\u001b[0m \u001b[1;33m**\u001b[0m\u001b[0mkwargs\u001b[0m\u001b[1;33m)\u001b[0m\u001b[1;33m\u001b[0m\u001b[1;33m\u001b[0m\u001b[0m\n\u001b[0m\u001b[0;32m   1280\u001b[0m     \u001b[0mfindAll\u001b[0m \u001b[1;33m=\u001b[0m \u001b[0mfind_all\u001b[0m       \u001b[1;31m# BS3\u001b[0m\u001b[1;33m\u001b[0m\u001b[1;33m\u001b[0m\u001b[0m\n\u001b[0;32m   1281\u001b[0m     \u001b[0mfindChildren\u001b[0m \u001b[1;33m=\u001b[0m \u001b[0mfind_all\u001b[0m  \u001b[1;31m# BS2\u001b[0m\u001b[1;33m\u001b[0m\u001b[1;33m\u001b[0m\u001b[0m\n",
      "\u001b[1;32mC:\\Users\\Public\\Anaconda3\\envs\\PythonData1\\lib\\site-packages\\bs4\\element.py\u001b[0m in \u001b[0;36m_find_all\u001b[1;34m(self, name, attrs, text, limit, generator, **kwargs)\u001b[0m\n\u001b[0;32m    539\u001b[0m                 \u001b[1;32mbreak\u001b[0m\u001b[1;33m\u001b[0m\u001b[1;33m\u001b[0m\u001b[0m\n\u001b[0;32m    540\u001b[0m             \u001b[1;32mif\u001b[0m \u001b[0mi\u001b[0m\u001b[1;33m:\u001b[0m\u001b[1;33m\u001b[0m\u001b[1;33m\u001b[0m\u001b[0m\n\u001b[1;32m--> 541\u001b[1;33m                 \u001b[0mfound\u001b[0m \u001b[1;33m=\u001b[0m \u001b[0mstrainer\u001b[0m\u001b[1;33m.\u001b[0m\u001b[0msearch\u001b[0m\u001b[1;33m(\u001b[0m\u001b[0mi\u001b[0m\u001b[1;33m)\u001b[0m\u001b[1;33m\u001b[0m\u001b[1;33m\u001b[0m\u001b[0m\n\u001b[0m\u001b[0;32m    542\u001b[0m                 \u001b[1;32mif\u001b[0m \u001b[0mfound\u001b[0m\u001b[1;33m:\u001b[0m\u001b[1;33m\u001b[0m\u001b[1;33m\u001b[0m\u001b[0m\n\u001b[0;32m    543\u001b[0m                     \u001b[0mresults\u001b[0m\u001b[1;33m.\u001b[0m\u001b[0mappend\u001b[0m\u001b[1;33m(\u001b[0m\u001b[0mfound\u001b[0m\u001b[1;33m)\u001b[0m\u001b[1;33m\u001b[0m\u001b[1;33m\u001b[0m\u001b[0m\n",
      "\u001b[1;32mC:\\Users\\Public\\Anaconda3\\envs\\PythonData1\\lib\\site-packages\\bs4\\element.py\u001b[0m in \u001b[0;36msearch\u001b[1;34m(self, markup)\u001b[0m\n\u001b[0;32m   1473\u001b[0m         \u001b[1;32melif\u001b[0m \u001b[0misinstance\u001b[0m\u001b[1;33m(\u001b[0m\u001b[0mmarkup\u001b[0m\u001b[1;33m,\u001b[0m \u001b[0mTag\u001b[0m\u001b[1;33m)\u001b[0m\u001b[1;33m:\u001b[0m\u001b[1;33m\u001b[0m\u001b[1;33m\u001b[0m\u001b[0m\n\u001b[0;32m   1474\u001b[0m             \u001b[1;32mif\u001b[0m \u001b[1;32mnot\u001b[0m \u001b[0mself\u001b[0m\u001b[1;33m.\u001b[0m\u001b[0mtext\u001b[0m \u001b[1;32mor\u001b[0m \u001b[0mself\u001b[0m\u001b[1;33m.\u001b[0m\u001b[0mname\u001b[0m \u001b[1;32mor\u001b[0m \u001b[0mself\u001b[0m\u001b[1;33m.\u001b[0m\u001b[0mattrs\u001b[0m\u001b[1;33m:\u001b[0m\u001b[1;33m\u001b[0m\u001b[1;33m\u001b[0m\u001b[0m\n\u001b[1;32m-> 1475\u001b[1;33m                 \u001b[0mfound\u001b[0m \u001b[1;33m=\u001b[0m \u001b[0mself\u001b[0m\u001b[1;33m.\u001b[0m\u001b[0msearch_tag\u001b[0m\u001b[1;33m(\u001b[0m\u001b[0mmarkup\u001b[0m\u001b[1;33m)\u001b[0m\u001b[1;33m\u001b[0m\u001b[1;33m\u001b[0m\u001b[0m\n\u001b[0m\u001b[0;32m   1476\u001b[0m         \u001b[1;31m# If it's text, make sure the text matches.\u001b[0m\u001b[1;33m\u001b[0m\u001b[1;33m\u001b[0m\u001b[1;33m\u001b[0m\u001b[0m\n\u001b[0;32m   1477\u001b[0m         \u001b[1;32melif\u001b[0m \u001b[0misinstance\u001b[0m\u001b[1;33m(\u001b[0m\u001b[0mmarkup\u001b[0m\u001b[1;33m,\u001b[0m \u001b[0mNavigableString\u001b[0m\u001b[1;33m)\u001b[0m \u001b[1;32mor\u001b[0m\u001b[0;31m \u001b[0m\u001b[0;31m\\\u001b[0m\u001b[1;33m\u001b[0m\u001b[1;33m\u001b[0m\u001b[0m\n",
      "\u001b[1;32mC:\\Users\\Public\\Anaconda3\\envs\\PythonData1\\lib\\site-packages\\bs4\\element.py\u001b[0m in \u001b[0;36msearch_tag\u001b[1;34m(self, markup_name, markup_attrs)\u001b[0m\n\u001b[0;32m   1429\u001b[0m         if ((not self.name)\n\u001b[0;32m   1430\u001b[0m             \u001b[1;32mor\u001b[0m \u001b[0mcall_function_with_tag_data\u001b[0m\u001b[1;33m\u001b[0m\u001b[1;33m\u001b[0m\u001b[0m\n\u001b[1;32m-> 1431\u001b[1;33m             \u001b[1;32mor\u001b[0m \u001b[1;33m(\u001b[0m\u001b[0mmarkup\u001b[0m \u001b[1;32mand\u001b[0m \u001b[0mself\u001b[0m\u001b[1;33m.\u001b[0m\u001b[0m_matches\u001b[0m\u001b[1;33m(\u001b[0m\u001b[0mmarkup\u001b[0m\u001b[1;33m,\u001b[0m \u001b[0mself\u001b[0m\u001b[1;33m.\u001b[0m\u001b[0mname\u001b[0m\u001b[1;33m)\u001b[0m\u001b[1;33m)\u001b[0m\u001b[1;33m\u001b[0m\u001b[1;33m\u001b[0m\u001b[0m\n\u001b[0m\u001b[0;32m   1432\u001b[0m             or (not markup and self._matches(markup_name, self.name))):\n\u001b[0;32m   1433\u001b[0m             \u001b[1;32mif\u001b[0m \u001b[0mcall_function_with_tag_data\u001b[0m\u001b[1;33m:\u001b[0m\u001b[1;33m\u001b[0m\u001b[1;33m\u001b[0m\u001b[0m\n",
      "\u001b[1;32mC:\\Users\\Public\\Anaconda3\\envs\\PythonData1\\lib\\site-packages\\bs4\\element.py\u001b[0m in \u001b[0;36m_matches\u001b[1;34m(self, markup, match_against, already_tried)\u001b[0m\n\u001b[0;32m   1505\u001b[0m \u001b[1;33m\u001b[0m\u001b[0m\n\u001b[0;32m   1506\u001b[0m         \u001b[1;32mif\u001b[0m \u001b[0misinstance\u001b[0m\u001b[1;33m(\u001b[0m\u001b[0mmatch_against\u001b[0m\u001b[1;33m,\u001b[0m \u001b[0mCallable\u001b[0m\u001b[1;33m)\u001b[0m\u001b[1;33m:\u001b[0m\u001b[1;33m\u001b[0m\u001b[1;33m\u001b[0m\u001b[0m\n\u001b[1;32m-> 1507\u001b[1;33m             \u001b[1;32mreturn\u001b[0m \u001b[0mmatch_against\u001b[0m\u001b[1;33m(\u001b[0m\u001b[0mmarkup\u001b[0m\u001b[1;33m)\u001b[0m\u001b[1;33m\u001b[0m\u001b[1;33m\u001b[0m\u001b[0m\n\u001b[0m\u001b[0;32m   1508\u001b[0m \u001b[1;33m\u001b[0m\u001b[0m\n\u001b[0;32m   1509\u001b[0m         \u001b[1;31m# Custom callables take the tag as an argument, but all\u001b[0m\u001b[1;33m\u001b[0m\u001b[1;33m\u001b[0m\u001b[1;33m\u001b[0m\u001b[0m\n",
      "\u001b[1;32m<ipython-input-21-31a7315c2d2a>\u001b[0m in \u001b[0;36msearch_function\u001b[1;34m(tag)\u001b[0m\n\u001b[0;32m      1\u001b[0m \u001b[1;32mdef\u001b[0m \u001b[0msearch_function\u001b[0m\u001b[1;33m(\u001b[0m\u001b[0mtag\u001b[0m\u001b[1;33m)\u001b[0m\u001b[1;33m:\u001b[0m\u001b[1;33m\u001b[0m\u001b[1;33m\u001b[0m\u001b[0m\n\u001b[0;32m      2\u001b[0m     \u001b[0mis_strong\u001b[0m \u001b[1;33m=\u001b[0m \u001b[0mtag\u001b[0m\u001b[1;33m.\u001b[0m\u001b[0mname\u001b[0m \u001b[1;33m==\u001b[0m \u001b[1;34m\"strong\"\u001b[0m\u001b[1;33m\u001b[0m\u001b[1;33m\u001b[0m\u001b[0m\n\u001b[1;32m----> 3\u001b[1;33m     \u001b[0mis_important\u001b[0m \u001b[1;33m=\u001b[0m \u001b[0mtag\u001b[0m\u001b[1;33m.\u001b[0m\u001b[0mnext_sibling\u001b[0m \u001b[1;32mand\u001b[0m \u001b[0mtag\u001b[0m\u001b[1;33m.\u001b[0m\u001b[0mnext_sibling\u001b[0m\u001b[1;33m.\u001b[0m\u001b[0mstrip\u001b[0m\u001b[1;33m(\u001b[0m\u001b[1;33m)\u001b[0m \u001b[1;33m==\u001b[0m \u001b[1;34m'Important Values'\u001b[0m\u001b[1;33m\u001b[0m\u001b[1;33m\u001b[0m\u001b[0m\n\u001b[0m\u001b[0;32m      4\u001b[0m     \u001b[1;32mreturn\u001b[0m \u001b[0mis_strong\u001b[0m \u001b[1;32mand\u001b[0m \u001b[0mis_important\u001b[0m\u001b[1;33m\u001b[0m\u001b[1;33m\u001b[0m\u001b[0m\n\u001b[0;32m      5\u001b[0m \u001b[1;33m\u001b[0m\u001b[0m\n",
      "\u001b[1;31mTypeError\u001b[0m: 'NoneType' object is not callable"
     ]
    }
   ],
   "source": [
    "def search_function(tag):\n",
    "    is_strong = tag.name == \"strong\"\n",
    "    is_important = tag.next_sibling and tag.next_sibling.strip() == 'Important Values'\n",
    "    return is_strong and is_important\n",
    "\n",
    "important_values = int(soup.find(search_function).get_text())"
   ]
  },
  {
   "cell_type": "code",
   "execution_count": null,
   "metadata": {},
   "outputs": [],
   "source": []
  }
 ],
 "metadata": {
  "kernelspec": {
   "display_name": "Python 3",
   "language": "python",
   "name": "python3"
  },
  "language_info": {
   "codemirror_mode": {
    "name": "ipython",
    "version": 3
   },
   "file_extension": ".py",
   "mimetype": "text/x-python",
   "name": "python",
   "nbconvert_exporter": "python",
   "pygments_lexer": "ipython3",
   "version": "3.6.9"
  }
 },
 "nbformat": 4,
 "nbformat_minor": 2
}
